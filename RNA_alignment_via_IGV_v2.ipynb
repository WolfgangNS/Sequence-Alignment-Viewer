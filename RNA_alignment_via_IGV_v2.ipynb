{
  "nbformat": 4,
  "nbformat_minor": 0,
  "metadata": {
    "colab": {
      "provenance": [],
      "collapsed_sections": [
        "rl_tmNGDKmd6",
        "GK5FgHbu-xFT",
        "0A60Hx_XyCJ_",
        "OX1UG39EKuU3",
        "ojJN6l-HHOUK"
      ],
      "authorship_tag": "ABX9TyNr2V7njxtcuyAwpilVNMe3",
      "include_colab_link": true
    },
    "kernelspec": {
      "name": "python3",
      "display_name": "Python 3"
    },
    "language_info": {
      "name": "python"
    }
  },
  "cells": [
    {
      "cell_type": "markdown",
      "metadata": {
        "id": "view-in-github",
        "colab_type": "text"
      },
      "source": [
        "<a href=\"https://colab.research.google.com/github/WolfgangNS/Sequence-Alignment-Viewer/blob/main/RNA_alignment_via_IGV_v2.ipynb\" target=\"_parent\"><img src=\"https://colab.research.google.com/assets/colab-badge.svg\" alt=\"Open In Colab\"/></a>"
      ]
    },
    {
      "cell_type": "code",
      "source": [
        "#@title Generate flowchart\n",
        "%%writefile flowchart.svg\n",
        "<?xml version=\"1.0\" encoding=\"UTF-8\" standalone=\"no\"?>\n",
        "<svg\n",
        "   xmlns:dc=\"http://purl.org/dc/elements/1.1/\"\n",
        "   xmlns:cc=\"http://creativecommons.org/ns#\"\n",
        "   xmlns:rdf=\"http://www.w3.org/1999/02/22-rdf-syntax-ns#\"\n",
        "   xmlns:svg=\"http://www.w3.org/2000/svg\"\n",
        "   xmlns=\"http://www.w3.org/2000/svg\"\n",
        "   xmlns:sodipodi=\"http://sodipodi.sourceforge.net/DTD/sodipodi-0.dtd\"\n",
        "   xmlns:inkscape=\"http://www.inkscape.org/namespaces/inkscape\"\n",
        "   width=\"199.72775mm\"\n",
        "   height=\"57.377407mm\"\n",
        "   viewBox=\"0 0 199.72775 57.377408\"\n",
        "   version=\"1.1\"\n",
        "   id=\"svg8\"\n",
        "   inkscape:version=\"1.0.2 (e86c870879, 2021-01-15)\"\n",
        "   sodipodi:docname=\"SRA genome alignment file flowchart2.svg\">\n",
        "  <defs\n",
        "     id=\"defs2\">\n",
        "    <pattern\n",
        "       id=\"EMFhbasepattern\"\n",
        "       patternUnits=\"userSpaceOnUse\"\n",
        "       width=\"6\"\n",
        "       height=\"6\"\n",
        "       x=\"0\"\n",
        "       y=\"0\" />\n",
        "  </defs>\n",
        "  <sodipodi:namedview\n",
        "     id=\"base\"\n",
        "     pagecolor=\"#ffffff\"\n",
        "     bordercolor=\"#666666\"\n",
        "     borderopacity=\"1.0\"\n",
        "     inkscape:pageopacity=\"0.0\"\n",
        "     inkscape:pageshadow=\"2\"\n",
        "     inkscape:zoom=\"0.49497475\"\n",
        "     inkscape:cx=\"32.469245\"\n",
        "     inkscape:cy=\"217.4462\"\n",
        "     inkscape:document-units=\"mm\"\n",
        "     inkscape:current-layer=\"layer1\"\n",
        "     inkscape:document-rotation=\"0\"\n",
        "     showgrid=\"false\"\n",
        "     fit-margin-top=\"0\"\n",
        "     fit-margin-left=\"0\"\n",
        "     fit-margin-right=\"0\"\n",
        "     fit-margin-bottom=\"0\"\n",
        "     inkscape:window-width=\"1920\"\n",
        "     inkscape:window-height=\"997\"\n",
        "     inkscape:window-x=\"-8\"\n",
        "     inkscape:window-y=\"15\"\n",
        "     inkscape:window-maximized=\"1\" />\n",
        "  <metadata\n",
        "     id=\"metadata5\">\n",
        "    <rdf:RDF>\n",
        "      <cc:Work\n",
        "         rdf:about=\"\">\n",
        "        <dc:format>image/svg+xml</dc:format>\n",
        "        <dc:type\n",
        "           rdf:resource=\"http://purl.org/dc/dcmitype/StillImage\" />\n",
        "        <dc:title></dc:title>\n",
        "      </cc:Work>\n",
        "    </rdf:RDF>\n",
        "  </metadata>\n",
        "  <g\n",
        "     inkscape:label=\"Layer 1\"\n",
        "     inkscape:groupmode=\"layer\"\n",
        "     id=\"layer1\"\n",
        "     transform=\"translate(-133.97059,-38.486812)\">\n",
        "    <path\n",
        "       style=\"fill:#ffffff;fill-opacity:1;fill-rule:evenodd;stroke:none;stroke-width:0.112996\"\n",
        "       d=\"m 136.42541,38.486812 v 0 c -0.43044,0 -0.85236,0.11507 -1.22741,0.328163 -0.37504,0.217355 -0.6819,0.524209 -0.89925,0.899252 -0.21309,0.375044 -0.32816,0.796968 -0.32816,1.227415 v 52.467747 0 c 0,0.430445 0.11507,0.85237 0.32816,1.227415 0.21735,0.375045 0.52421,0.681899 0.89925,0.899253 0.37505,0.213091 0.79697,0.328161 1.22741,0.328161 h 194.8181 v 0 c 0.43045,0 0.85237,-0.11507 1.22742,-0.328161 0.37504,-0.217354 0.68189,-0.524208 0.89925,-0.899253 0.21309,-0.375045 0.32816,-0.79697 0.32816,-1.227415 v -52.467747 0 0 c 0,-0.430447 -0.11507,-0.852371 -0.32816,-1.227415 -0.21736,-0.375043 -0.52421,-0.681897 -0.89925,-0.899252 -0.37505,-0.213093 -0.79697,-0.328163 -1.22742,-0.328163 z\"\n",
        "       id=\"path836\" />\n",
        "    <path\n",
        "       style=\"fill:#f5f5f5;fill-opacity:1;fill-rule:evenodd;stroke:none;stroke-width:0.112996\"\n",
        "       d=\"m 138.11737,72.585945 h 0.004 c -0.14917,0 -0.28981,0.03835 -0.41767,0.110807 -0.12785,0.07245 -0.2344,0.178999 -0.30685,0.306855 -0.0725,0.127857 -0.11081,0.268495 -0.11081,0.417663 v 17.818834 0 c 0,0.149163 0.0384,0.289806 0.11081,0.417659 0.0725,0.127856 0.179,0.234402 0.30685,0.306854 0.12786,0.07245 0.2685,0.110808 0.41767,0.110808 h 26.95199 v 0 c 0.14916,0 0.28981,-0.03835 0.41766,-0.110808 0.12786,-0.07245 0.23441,-0.178998 0.30685,-0.306854 0.0725,-0.127853 0.11082,-0.268496 0.11082,-0.417659 v -17.823097 0.0043 0 c 0,-0.149167 -0.0384,-0.289806 -0.11082,-0.417662 -0.0724,-0.127857 -0.17899,-0.234402 -0.30685,-0.306855 -0.12785,-0.07245 -0.2685,-0.110808 -0.41766,-0.110808 z\"\n",
        "       id=\"path838\" />\n",
        "    <text\n",
        "       xml:space=\"preserve\"\n",
        "       style=\"font-style:normal;font-variant:normal;font-weight:400;font-size:2.70484px;line-height:125%;font-family:'Liberation Sans';text-align:start;letter-spacing:0px;word-spacing:0px;text-anchor:start;fill:#000000;fill-opacity:1;stroke:none;stroke-width:0.112996\"\n",
        "       x=\"140.20143\"\n",
        "       y=\"77.21006\"\n",
        "       id=\"text844\"><tspan\n",
        "         sodipodi:role=\"line\"\n",
        "         x=\"140.20143\"\n",
        "         y=\"77.21006\"\n",
        "         id=\"tspan842\"\n",
        "         style=\"stroke-width:0.112996\"><tspan\n",
        "           dx=\"0\"\n",
        "           dy=\"0\"\n",
        "           style=\"font-style:normal;font-variant:normal;font-weight:400;font-size:2.70484px;font-family:'Liberation Sans';fill:#000000;stroke-width:0.112996\"\n",
        "           id=\"tspan840\">Aligned sequences</tspan></tspan></text>\n",
        "    <path\n",
        "       style=\"fill:#f5f5f5;fill-opacity:1;fill-rule:evenodd;stroke:none;stroke-width:0.112996\"\n",
        "       d=\"m 138.88877,41.798276 h 0.004 c -0.20031,0 -0.39635,0.05114 -0.56683,0.153426 -0.17474,0.09802 -0.31538,0.238664 -0.41341,0.4134 -0.10228,0.170474 -0.15342,0.366521 -0.15342,0.56683 v 24.190308 0 c 0,0.200309 0.0511,0.396356 0.15342,0.56683 0.098,0.174736 0.23867,0.315375 0.4134,0.4134 0.17048,0.102284 0.36652,0.153425 0.56683,0.153425 H 255.233 v 0 c 0.20029,0 0.39634,-0.05114 0.56681,-0.153425 0.17474,-0.09802 0.31539,-0.238664 0.41341,-0.4134 0.10228,-0.170474 0.15343,-0.366521 0.15343,-0.56683 v -24.19457 0.0043 0 c 0,-0.200309 -0.0512,-0.396351 -0.15343,-0.566829 -0.098,-0.174737 -0.23867,-0.315375 -0.41341,-0.413401 -0.17047,-0.102283 -0.36652,-0.153425 -0.56681,-0.153425 z\"\n",
        "       id=\"path846\" />\n",
        "    <text\n",
        "       xml:space=\"preserve\"\n",
        "       style=\"font-style:normal;font-variant:normal;font-weight:400;font-size:2.70484px;line-height:125%;font-family:'Liberation Sans';text-align:start;letter-spacing:0px;word-spacing:0px;text-anchor:start;fill:#000000;fill-opacity:1;stroke:none;stroke-width:0.112996\"\n",
        "       x=\"186.32753\"\n",
        "       y=\"46.000469\"\n",
        "       id=\"text852\"><tspan\n",
        "         sodipodi:role=\"line\"\n",
        "         x=\"186.32753\"\n",
        "         y=\"46.000469\"\n",
        "         id=\"tspan850\"\n",
        "         style=\"stroke-width:0.112996\"><tspan\n",
        "           dx=\"0\"\n",
        "           dy=\"0\"\n",
        "           style=\"font-style:normal;font-variant:normal;font-weight:400;font-size:2.70484px;font-family:'Liberation Sans';fill:#000000;stroke-width:0.112996\"\n",
        "           id=\"tspan848\">Genome template</tspan></tspan></text>\n",
        "    <path\n",
        "       style=\"fill:#e1e1e1;fill-opacity:1;fill-rule:evenodd;stroke:none;stroke-width:0.112996\"\n",
        "       d=\"m 151.56354,89.364883 h -7.85035 V 78.53976 h 15.69643 v 10.825123 z\"\n",
        "       id=\"path854\" />\n",
        "    <text\n",
        "       xml:space=\"preserve\"\n",
        "       style=\"font-style:normal;font-variant:normal;font-weight:400;font-size:2.70484px;line-height:112.028%;font-family:'Liberation Sans';text-align:center;letter-spacing:0px;word-spacing:0px;text-anchor:middle;fill:#000000;fill-opacity:1;stroke:none;stroke-width:0.112996\"\n",
        "       x=\"151.55981\"\n",
        "       y=\"83.376976\"\n",
        "       id=\"text864\"><tspan\n",
        "         sodipodi:role=\"line\"\n",
        "         x=\"151.55981\"\n",
        "         y=\"83.376976\"\n",
        "         id=\"tspan858\"\n",
        "         style=\"stroke-width:0.112996\"><tspan\n",
        "           dx=\"0\"\n",
        "           dy=\"0\"\n",
        "           style=\"font-style:normal;font-variant:normal;font-weight:400;font-size:2.70484px;font-family:'Liberation Sans';fill:#000000;stroke-width:0.112996\"\n",
        "           id=\"tspan856\">.fastq</tspan></tspan><tspan\n",
        "         sodipodi:role=\"line\"\n",
        "         x=\"151.55981\"\n",
        "         y=\"86.407158\"\n",
        "         id=\"tspan862\"\n",
        "         style=\"stroke-width:0.112996\"><tspan\n",
        "           dx=\"0\"\n",
        "           dy=\"0\"\n",
        "           style=\"font-style:normal;font-variant:normal;font-weight:400;font-size:2.70484px;font-family:'Liberation Sans';fill:#000000;stroke-width:0.112996\"\n",
        "           id=\"tspan860\">(SRR...)</tspan></tspan></text>\n",
        "    <path\n",
        "       style=\"fill:#e1e1e1;fill-opacity:1;fill-rule:evenodd;stroke:none;stroke-width:0.112996\"\n",
        "       d=\"m 151.02228,63.925845 h -7.85034 V 53.100727 h 15.69643 v 10.825118 z\"\n",
        "       id=\"path866\" />\n",
        "    <text\n",
        "       xml:space=\"preserve\"\n",
        "       style=\"font-style:normal;font-variant:normal;font-weight:400;font-size:2.70484px;line-height:125%;font-family:'Liberation Sans';text-align:start;letter-spacing:0px;word-spacing:0px;text-anchor:start;fill:#000000;fill-opacity:1;stroke:none;stroke-width:0.112996\"\n",
        "       x=\"148.76776\"\n",
        "       y=\"59.455162\"\n",
        "       id=\"text872\"><tspan\n",
        "         sodipodi:role=\"line\"\n",
        "         x=\"148.76776\"\n",
        "         y=\"59.455162\"\n",
        "         id=\"tspan870\"\n",
        "         style=\"stroke-width:0.112996\"><tspan\n",
        "           dx=\"0\"\n",
        "           dy=\"0\"\n",
        "           style=\"font-style:normal;font-variant:normal;font-weight:400;font-size:2.70484px;font-family:'Liberation Sans';fill:#000000;stroke-width:0.112996\"\n",
        "           id=\"tspan868\">.fna</tspan></tspan></text>\n",
        "    <path\n",
        "       style=\"fill:#e1e1e1;fill-opacity:1;fill-rule:evenodd;stroke:none;stroke-width:0.112996\"\n",
        "       d=\"m 191.61649,63.925845 h -7.85034 V 53.100727 h 15.69642 v 10.825118 z\"\n",
        "       id=\"path874\" />\n",
        "    <text\n",
        "       xml:space=\"preserve\"\n",
        "       style=\"font-style:normal;font-variant:normal;font-weight:400;font-size:2.70484px;line-height:112.028%;font-family:'Liberation Sans';text-align:center;letter-spacing:0px;word-spacing:0px;text-anchor:middle;fill:#000000;fill-opacity:1;stroke:none;stroke-width:0.112996\"\n",
        "       x=\"191.63112\"\n",
        "       y=\"57.937939\"\n",
        "       id=\"text886\"><tspan\n",
        "         sodipodi:role=\"line\"\n",
        "         x=\"191.63112\"\n",
        "         y=\"57.937939\"\n",
        "         id=\"tspan880\"\n",
        "         style=\"stroke-width:0.112996\"><tspan\n",
        "           dx=\"0\"\n",
        "           dy=\"0\"\n",
        "           style=\"font-style:normal;font-variant:normal;font-weight:400;font-size:2.70484px;font-family:'Liberation Sans';fill:#000000;stroke-width:0.112996\"\n",
        "           id=\"tspan876\">“</tspan><tspan\n",
        "           dx=\"0\"\n",
        "           dy=\"0\"\n",
        "           style=\"font-style:normal;font-variant:normal;font-weight:400;font-size:2.70484px;font-family:'Liberation Sans';fill:#000000;stroke-width:0.112996\"\n",
        "           id=\"tspan878\">genome”</tspan></tspan><tspan\n",
        "         sodipodi:role=\"line\"\n",
        "         x=\"191.63112\"\n",
        "         y=\"60.968117\"\n",
        "         id=\"tspan884\"\n",
        "         style=\"stroke-width:0.112996\"><tspan\n",
        "           dx=\"0\"\n",
        "           dy=\"0\"\n",
        "           style=\"font-style:normal;font-variant:normal;font-weight:400;font-size:2.70484px;font-family:'Liberation Sans';fill:#000000;stroke-width:0.112996\"\n",
        "           id=\"tspan882\">files</tspan></tspan></text>\n",
        "    <path\n",
        "       style=\"fill:#e1e1e1;fill-opacity:1;fill-rule:evenodd;stroke:none;stroke-width:0.112996\"\n",
        "       d=\"m 210.56045,89.364883 h -7.85034 V 78.53976 h 15.69642 v 10.825123 z\"\n",
        "       id=\"path888\" />\n",
        "    <text\n",
        "       xml:space=\"preserve\"\n",
        "       style=\"font-style:normal;font-variant:normal;font-weight:400;font-size:2.70484px;line-height:125%;font-family:'Liberation Sans';text-align:start;letter-spacing:0px;word-spacing:0px;text-anchor:start;fill:#000000;fill-opacity:1;stroke:none;stroke-width:0.112996\"\n",
        "       x=\"207.55585\"\n",
        "       y=\"84.894203\"\n",
        "       id=\"text894\"><tspan\n",
        "         sodipodi:role=\"line\"\n",
        "         x=\"207.55585\"\n",
        "         y=\"84.894203\"\n",
        "         id=\"tspan892\"\n",
        "         style=\"stroke-width:0.112996\"><tspan\n",
        "           dx=\"0\"\n",
        "           dy=\"0\"\n",
        "           style=\"font-style:normal;font-variant:normal;font-weight:400;font-size:2.70484px;font-family:'Liberation Sans';fill:#000000;stroke-width:0.112996\"\n",
        "           id=\"tspan890\">.bam</tspan></tspan></text>\n",
        "    <path\n",
        "       style=\"fill:#e1e1e1;fill-opacity:1;fill-rule:evenodd;stroke:none;stroke-width:0.112996\"\n",
        "       d=\"m 251.69592,89.364883 h -7.85035 V 78.53976 H 259.542 v 10.825123 z\"\n",
        "       id=\"path896\" />\n",
        "    <text\n",
        "       xml:space=\"preserve\"\n",
        "       style=\"font-style:normal;font-variant:normal;font-weight:400;font-size:2.70484px;line-height:125%;font-family:'Liberation Sans';text-align:start;letter-spacing:0px;word-spacing:0px;text-anchor:start;fill:#000000;fill-opacity:1;stroke:none;stroke-width:0.112996\"\n",
        "       x=\"246.05748\"\n",
        "       y=\"84.894203\"\n",
        "       id=\"text902\"><tspan\n",
        "         sodipodi:role=\"line\"\n",
        "         x=\"246.05748\"\n",
        "         y=\"84.894203\"\n",
        "         id=\"tspan900\"\n",
        "         style=\"stroke-width:0.112996\"><tspan\n",
        "           dx=\"0\"\n",
        "           dy=\"0\"\n",
        "           style=\"font-style:normal;font-variant:normal;font-weight:400;font-size:2.70484px;font-family:'Liberation Sans';fill:#000000;stroke-width:0.112996\"\n",
        "           id=\"tspan898\">.sort.bam</tspan></tspan></text>\n",
        "    <path\n",
        "       style=\"fill:#e1e1e1;fill-opacity:1;fill-rule:evenodd;stroke:none;stroke-width:0.112996\"\n",
        "       d=\"m 298.5167,89.364883 h -9.74262 V 78.53976 h 19.48523 v 10.825123 z\"\n",
        "       id=\"path904\" />\n",
        "    <text\n",
        "       xml:space=\"preserve\"\n",
        "       style=\"font-style:normal;font-variant:normal;font-weight:400;font-size:2.70484px;line-height:125%;font-family:'Liberation Sans';text-align:start;letter-spacing:0px;word-spacing:0px;text-anchor:start;fill:#000000;fill-opacity:1;stroke:none;stroke-width:0.112996\"\n",
        "       x=\"290.70471\"\n",
        "       y=\"84.894203\"\n",
        "       id=\"text910\"><tspan\n",
        "         sodipodi:role=\"line\"\n",
        "         x=\"290.70471\"\n",
        "         y=\"84.894203\"\n",
        "         id=\"tspan908\"\n",
        "         style=\"stroke-width:0.112996\"><tspan\n",
        "           dx=\"0\"\n",
        "           dy=\"0\"\n",
        "           style=\"font-style:normal;font-variant:normal;font-weight:400;font-size:2.70484px;font-family:'Liberation Sans';fill:#000000;stroke-width:0.112996\"\n",
        "           id=\"tspan906\">.sort.bam.bai</tspan></tspan></text>\n",
        "    <path\n",
        "       style=\"fill:#e1e1e1;fill-opacity:1;fill-rule:evenodd;stroke:none;stroke-width:0.112996\"\n",
        "       d=\"m 319.35292,63.925845 h -7.85034 V 53.100727 h 15.69643 v 10.825118 z\"\n",
        "       id=\"path912\" />\n",
        "    <text\n",
        "       xml:space=\"preserve\"\n",
        "       style=\"font-style:normal;font-variant:normal;font-weight:700;font-size:4.2091px;line-height:125%;font-family:'Liberation Sans';text-align:start;letter-spacing:0px;word-spacing:0px;text-anchor:start;fill:#000000;fill-opacity:1;stroke:none;stroke-width:0.112996\"\n",
        "       x=\"315.73462\"\n",
        "       y=\"59.975105\"\n",
        "       id=\"text918\"><tspan\n",
        "         sodipodi:role=\"line\"\n",
        "         x=\"315.73462\"\n",
        "         y=\"59.975105\"\n",
        "         id=\"tspan916\"\n",
        "         style=\"stroke-width:0.112996\"><tspan\n",
        "           dx=\"0\"\n",
        "           dy=\"0\"\n",
        "           style=\"font-style:normal;font-variant:normal;font-weight:700;font-size:4.2091px;font-family:'Liberation Sans';fill:#000000;stroke-width:0.112996\"\n",
        "           id=\"tspan914\">IGV</tspan></tspan></text>\n",
        "    <path\n",
        "       style=\"fill:#000000;fill-opacity:1;fill-rule:evenodd;stroke:none;stroke-width:0.112996\"\n",
        "       d=\"m 199.46683,58.734902 v -0.221616 -0.217353 h 11.09362 v 0.217353 0.221616 z\"\n",
        "       id=\"path920\" />\n",
        "    <path\n",
        "       style=\"fill:#000000;fill-opacity:1;fill-rule:evenodd;stroke:none;stroke-width:0.112996\"\n",
        "       d=\"m 210.56045,58.295933 c 0.0384,0 0.0767,0.0085 0.11081,0.02558 0.0341,0.02131 0.0597,0.04688 0.081,0.08097 0.017,0.03408 0.0299,0.07245 0.0299,0.110812 v 0 h -0.22162 z\"\n",
        "       id=\"path922\" />\n",
        "    <path\n",
        "       style=\"fill:#000000;fill-opacity:1;fill-rule:evenodd;stroke:none;stroke-width:0.112996\"\n",
        "       d=\"m 210.3431,58.513286 h 0.21735 0.22162 v 17.264791 h -0.22162 -0.21735 z\"\n",
        "       id=\"path924\" />\n",
        "    <path\n",
        "       style=\"fill:#000000;fill-opacity:1;fill-rule:evenodd;stroke:none;stroke-width:0.112996\"\n",
        "       d=\"m 210.56045,78.53976 0.96318,-2.88954 h -1.92636 z\"\n",
        "       id=\"path926\" />\n",
        "    <text\n",
        "       xml:space=\"preserve\"\n",
        "       style=\"font-style:normal;font-variant:normal;font-weight:400;font-size:2.70484px;line-height:112.028%;font-family:'Liberation Sans';text-align:center;letter-spacing:0px;word-spacing:0px;text-anchor:middle;fill:#000000;fill-opacity:1;stroke:none;stroke-width:0.112996\"\n",
        "       x=\"210.42917\"\n",
        "       y=\"53.982929\"\n",
        "       id=\"text936\"><tspan\n",
        "         sodipodi:role=\"line\"\n",
        "         x=\"210.42917\"\n",
        "         y=\"53.982929\"\n",
        "         id=\"tspan930\"\n",
        "         style=\"stroke-width:0.112996\"><tspan\n",
        "           dx=\"0\"\n",
        "           dy=\"0\"\n",
        "           style=\"font-style:normal;font-variant:normal;font-weight:400;font-size:2.70484px;font-family:'Liberation Sans';fill:#000000;stroke-width:0.112996\"\n",
        "           id=\"tspan928\">HISAT2 and </tspan></tspan><tspan\n",
        "         sodipodi:role=\"line\"\n",
        "         x=\"210.42917\"\n",
        "         y=\"57.013107\"\n",
        "         id=\"tspan934\"\n",
        "         style=\"stroke-width:0.112996\"><tspan\n",
        "           dx=\"0\"\n",
        "           dy=\"0\"\n",
        "           style=\"font-style:normal;font-variant:normal;font-weight:400;font-size:2.70484px;font-family:'Liberation Sans';fill:#000000;stroke-width:0.112996\"\n",
        "           id=\"tspan932\">samtools view</tspan></tspan></text>\n",
        "    <path\n",
        "       style=\"fill:#000000;fill-opacity:1;fill-rule:evenodd;stroke:none;stroke-width:0.112996\"\n",
        "       d=\"m 159.41388,84.17394 v -0.221616 -0.217357 h 40.53881 v 0.217357 0.221616 z\"\n",
        "       id=\"path938\" />\n",
        "    <path\n",
        "       style=\"fill:#000000;fill-opacity:1;fill-rule:evenodd;stroke:none;stroke-width:0.112996\"\n",
        "       d=\"m 202.71437,83.952324 -2.88954,-0.963181 v 1.926358 z\"\n",
        "       id=\"path940\" />\n",
        "    <text\n",
        "       xml:space=\"preserve\"\n",
        "       style=\"font-style:normal;font-variant:normal;font-weight:400;font-size:2.70484px;line-height:112.028%;font-family:'Liberation Sans';text-align:center;letter-spacing:0px;word-spacing:0px;text-anchor:middle;fill:#000000;fill-opacity:1;stroke:none;stroke-width:0.112996\"\n",
        "       x=\"181.06496\"\n",
        "       y=\"79.183304\"\n",
        "       id=\"text950\"><tspan\n",
        "         sodipodi:role=\"line\"\n",
        "         x=\"181.06496\"\n",
        "         y=\"79.183304\"\n",
        "         id=\"tspan944\"\n",
        "         style=\"stroke-width:0.112996\"><tspan\n",
        "           dx=\"0\"\n",
        "           dy=\"0\"\n",
        "           style=\"font-style:normal;font-variant:normal;font-weight:400;font-size:2.70484px;font-family:'Liberation Sans';fill:#000000;stroke-width:0.112996\"\n",
        "           id=\"tspan942\">HISAT2 and </tspan></tspan><tspan\n",
        "         sodipodi:role=\"line\"\n",
        "         x=\"181.06496\"\n",
        "         y=\"82.213486\"\n",
        "         id=\"tspan948\"\n",
        "         style=\"stroke-width:0.112996\"><tspan\n",
        "           dx=\"0\"\n",
        "           dy=\"0\"\n",
        "           style=\"font-style:normal;font-variant:normal;font-weight:400;font-size:2.70484px;font-family:'Liberation Sans';fill:#000000;stroke-width:0.112996\"\n",
        "           id=\"tspan946\">samtools view</tspan></tspan></text>\n",
        "    <path\n",
        "       style=\"fill:#000000;fill-opacity:1;fill-rule:evenodd;stroke:none;stroke-width:0.112996\"\n",
        "       d=\"m 218.4108,84.17394 v -0.221616 -0.217357 h 22.67735 v 0.217357 0.221616 z\"\n",
        "       id=\"path952\" />\n",
        "    <path\n",
        "       style=\"fill:#000000;fill-opacity:1;fill-rule:evenodd;stroke:none;stroke-width:0.112996\"\n",
        "       d=\"m 243.84983,83.952324 -2.88954,-0.963181 v 1.926358 z\"\n",
        "       id=\"path954\" />\n",
        "    <text\n",
        "       xml:space=\"preserve\"\n",
        "       style=\"font-style:normal;font-variant:normal;font-weight:400;font-size:2.70484px;line-height:125%;font-family:'Liberation Sans';text-align:start;letter-spacing:0px;word-spacing:0px;text-anchor:start;fill:#000000;fill-opacity:1;stroke:none;stroke-width:0.112996\"\n",
        "       x=\"223.09457\"\n",
        "       y=\"81.864014\"\n",
        "       id=\"text960\"><tspan\n",
        "         sodipodi:role=\"line\"\n",
        "         x=\"223.09457\"\n",
        "         y=\"81.864014\"\n",
        "         id=\"tspan958\"\n",
        "         style=\"stroke-width:0.112996\"><tspan\n",
        "           dx=\"0\"\n",
        "           dy=\"0\"\n",
        "           style=\"font-style:normal;font-variant:normal;font-weight:400;font-size:2.70484px;font-family:'Liberation Sans';fill:#000000;stroke-width:0.112996\"\n",
        "           id=\"tspan956\">samtools sort</tspan></tspan></text>\n",
        "    <path\n",
        "       style=\"fill:#000000;fill-opacity:1;fill-rule:evenodd;stroke:none;stroke-width:0.112996\"\n",
        "       d=\"m 259.54626,84.17394 v -0.221616 -0.217357 h 26.46614 v 0.217357 0.221616 z\"\n",
        "       id=\"path962\" />\n",
        "    <path\n",
        "       style=\"fill:#000000;fill-opacity:1;fill-rule:evenodd;stroke:none;stroke-width:0.112996\"\n",
        "       d=\"m 288.77408,83.952324 -2.88954,-0.963181 v 1.926358 z\"\n",
        "       id=\"path964\" />\n",
        "    <text\n",
        "       xml:space=\"preserve\"\n",
        "       style=\"font-style:normal;font-variant:normal;font-weight:400;font-size:2.70484px;line-height:125%;font-family:'Liberation Sans';text-align:start;letter-spacing:0px;word-spacing:0px;text-anchor:start;fill:#000000;fill-opacity:1;stroke:none;stroke-width:0.112996\"\n",
        "       x=\"265.15912\"\n",
        "       y=\"81.864014\"\n",
        "       id=\"text970\"><tspan\n",
        "         sodipodi:role=\"line\"\n",
        "         x=\"265.15912\"\n",
        "         y=\"81.864014\"\n",
        "         id=\"tspan968\"\n",
        "         style=\"stroke-width:0.112996\"><tspan\n",
        "           dx=\"0\"\n",
        "           dy=\"0\"\n",
        "           style=\"font-style:normal;font-variant:normal;font-weight:400;font-size:2.70484px;font-family:'Liberation Sans';fill:#000000;stroke-width:0.112996\"\n",
        "           id=\"tspan966\">samtools index</tspan></tspan></text>\n",
        "    <path\n",
        "       style=\"fill:#000000;fill-opacity:1;fill-rule:evenodd;stroke:none;stroke-width:0.112996\"\n",
        "       d=\"m 158.87263,58.734902 v -0.221616 -0.217353 h 22.13609 v 0.217353 0.221616 z\"\n",
        "       id=\"path972\" />\n",
        "    <path\n",
        "       style=\"fill:#000000;fill-opacity:1;fill-rule:evenodd;stroke:none;stroke-width:0.112996\"\n",
        "       d=\"m 183.77041,58.513286 -2.88954,-0.963181 v 1.926363 z\"\n",
        "       id=\"path974\" />\n",
        "    <text\n",
        "       xml:space=\"preserve\"\n",
        "       style=\"font-style:normal;font-variant:normal;font-weight:400;font-size:2.70484px;line-height:125%;font-family:'Liberation Sans';text-align:start;letter-spacing:0px;word-spacing:0px;text-anchor:start;fill:#000000;fill-opacity:1;stroke:none;stroke-width:0.112996\"\n",
        "       x=\"163.39445\"\n",
        "       y=\"56.774445\"\n",
        "       id=\"text980\"><tspan\n",
        "         sodipodi:role=\"line\"\n",
        "         x=\"163.39445\"\n",
        "         y=\"56.774445\"\n",
        "         id=\"tspan978\"\n",
        "         style=\"stroke-width:0.112996\"><tspan\n",
        "           dx=\"0\"\n",
        "           dy=\"0\"\n",
        "           style=\"font-style:normal;font-variant:normal;font-weight:400;font-size:2.70484px;font-family:'Liberation Sans';fill:#000000;stroke-width:0.112996\"\n",
        "           id=\"tspan976\">HISAT2-build</tspan></tspan></text>\n",
        "    <path\n",
        "       style=\"fill:#000000;fill-opacity:1;fill-rule:evenodd;stroke:none;stroke-width:0.112996\"\n",
        "       d=\"m 308.25931,84.17394 v -0.221616 -0.217357 h 11.09361 v 0.217357 0.221616 z\"\n",
        "       id=\"path982\" />\n",
        "    <path\n",
        "       style=\"fill:#000000;fill-opacity:1;fill-rule:evenodd;stroke:none;stroke-width:0.112996\"\n",
        "       d=\"m 319.57454,83.952324 c 0,0.03835 -0.0128,0.07671 -0.0298,0.110808 -0.0213,0.03408 -0.0469,0.05967 -0.081,0.08098 -0.0341,0.01704 -0.0725,0.02985 -0.11081,0.02985 v -0.221615 z\"\n",
        "       id=\"path984\" />\n",
        "    <path\n",
        "       style=\"fill:#000000;fill-opacity:1;fill-rule:evenodd;stroke:none;stroke-width:0.112996\"\n",
        "       d=\"m 319.57454,83.952324 h -0.22162 -0.21735 V 66.687533 h 0.21735 0.22162 z\"\n",
        "       id=\"path986\" />\n",
        "    <path\n",
        "       style=\"fill:#000000;fill-opacity:1;fill-rule:evenodd;stroke:none;stroke-width:0.112996\"\n",
        "       d=\"m 319.35292,63.925845 -0.96317,2.889545 h 1.92635 z\"\n",
        "       id=\"path988\" />\n",
        "    <path\n",
        "       style=\"fill:#e1e1e1;fill-opacity:1;fill-rule:evenodd;stroke:none;stroke-width:0.112996\"\n",
        "       d=\"m 241.41205,63.925845 h -7.85034 V 53.100727 h 15.69642 v 10.825118 z\"\n",
        "       id=\"path990\" />\n",
        "    <text\n",
        "       xml:space=\"preserve\"\n",
        "       style=\"font-style:normal;font-variant:normal;font-weight:400;font-size:2.70484px;line-height:125%;font-family:'Liberation Sans';text-align:start;letter-spacing:0px;word-spacing:0px;text-anchor:start;fill:#000000;fill-opacity:1;stroke:none;stroke-width:0.112996\"\n",
        "       x=\"239.15753\"\n",
        "       y=\"59.455162\"\n",
        "       id=\"text996\"><tspan\n",
        "         sodipodi:role=\"line\"\n",
        "         x=\"239.15753\"\n",
        "         y=\"59.455162\"\n",
        "         id=\"tspan994\"\n",
        "         style=\"stroke-width:0.112996\"><tspan\n",
        "           dx=\"0\"\n",
        "           dy=\"0\"\n",
        "           style=\"font-style:normal;font-variant:normal;font-weight:400;font-size:2.70484px;font-family:'Liberation Sans';fill:#000000;stroke-width:0.112996\"\n",
        "           id=\"tspan992\">.fna</tspan></tspan></text>\n",
        "    <path\n",
        "       style=\"fill:#000000;fill-opacity:1;fill-rule:evenodd;stroke:none;stroke-width:0.112996\"\n",
        "       d=\"m 241.63366,49.23522 h -0.22161 -0.21735 v -0.46028 h 0.21735 0.22161 z\"\n",
        "       id=\"path998\" />\n",
        "    <path\n",
        "       style=\"fill:#000000;fill-opacity:1;fill-rule:evenodd;stroke:none;stroke-width:0.112996\"\n",
        "       d=\"m 241.41205,48.557586 c 0.0384,0 0.0767,0.0085 0.11081,0.02558 0.0341,0.02131 0.0597,0.04688 0.081,0.08097 0.017,0.03408 0.0299,0.07245 0.0299,0.110808 v 0 h -0.22162 z\"\n",
        "       id=\"path1000\" />\n",
        "    <path\n",
        "       style=\"fill:#000000;fill-opacity:1;fill-rule:evenodd;stroke:none;stroke-width:0.112996\"\n",
        "       d=\"m 241.41205,48.557586 v 0.217354 0.221615 H 151.02228 V 48.77494 48.557586 Z\"\n",
        "       id=\"path1002\" />\n",
        "    <path\n",
        "       style=\"fill:#000000;fill-opacity:1;fill-rule:evenodd;stroke:none;stroke-width:0.112996\"\n",
        "       d=\"m 150.80493,48.77494 c 0,-0.03835 0.009,-0.07672 0.0256,-0.110808 0.0213,-0.03408 0.0469,-0.05967 0.081,-0.08098 0.0341,-0.01704 0.0725,-0.02558 0.1108,-0.02558 v 0.217353 z\"\n",
        "       id=\"path1004\" />\n",
        "    <path\n",
        "       style=\"fill:#000000;fill-opacity:1;fill-rule:evenodd;stroke:none;stroke-width:0.112996\"\n",
        "       d=\"m 150.80493,48.77494 h 0.21735 0.22162 v 4.325787 h -0.22162 -0.21735 z\"\n",
        "       id=\"path1006\" />\n",
        "    <path\n",
        "       style=\"fill:#000000;fill-opacity:1;fill-rule:evenodd;stroke:none;stroke-width:0.112996\"\n",
        "       d=\"m 240.66196,49.132936 h 1.50017 l -0.75008,3.967791 z\"\n",
        "       id=\"path1008\" />\n",
        "    <path\n",
        "       style=\"fill:#e1e1e1;fill-opacity:1;fill-rule:evenodd;stroke:none;stroke-width:0.112996\"\n",
        "       d=\"m 289.04258,63.925845 h -7.85034 V 53.100727 h 15.69643 v 10.825118 z\"\n",
        "       id=\"path1010\" />\n",
        "    <text\n",
        "       xml:space=\"preserve\"\n",
        "       style=\"font-style:normal;font-variant:normal;font-weight:400;font-size:2.70484px;line-height:125%;font-family:'Liberation Sans';text-align:start;letter-spacing:0px;word-spacing:0px;text-anchor:start;fill:#000000;fill-opacity:1;stroke:none;stroke-width:0.112996\"\n",
        "       x=\"284.98105\"\n",
        "       y=\"59.455162\"\n",
        "       id=\"text1016\"><tspan\n",
        "         sodipodi:role=\"line\"\n",
        "         x=\"284.98105\"\n",
        "         y=\"59.455162\"\n",
        "         id=\"tspan1014\"\n",
        "         style=\"stroke-width:0.112996\"><tspan\n",
        "           dx=\"0\"\n",
        "           dy=\"0\"\n",
        "           style=\"font-style:normal;font-variant:normal;font-weight:400;font-size:2.70484px;font-family:'Liberation Sans';fill:#000000;stroke-width:0.112996\"\n",
        "           id=\"tspan1012\">.fna.fai</tspan></tspan></text>\n",
        "    <path\n",
        "       style=\"fill:#000000;fill-opacity:1;fill-rule:evenodd;stroke:none;stroke-width:0.112996\"\n",
        "       d=\"m 249.26239,58.734902 v -0.221616 -0.217353 h 29.17243 v 0.217353 0.221616 z\"\n",
        "       id=\"path1018\" />\n",
        "    <path\n",
        "       style=\"fill:#000000;fill-opacity:1;fill-rule:evenodd;stroke:none;stroke-width:0.112996\"\n",
        "       d=\"m 281.19651,58.513286 -2.88954,-0.963181 v 1.926363 z\"\n",
        "       id=\"path1020\" />\n",
        "    <text\n",
        "       xml:space=\"preserve\"\n",
        "       style=\"font-style:normal;font-variant:normal;font-weight:400;font-size:2.70484px;line-height:125%;font-family:'Liberation Sans';text-align:start;letter-spacing:0px;word-spacing:0px;text-anchor:start;fill:#000000;fill-opacity:1;stroke:none;stroke-width:0.112996\"\n",
        "       x=\"256.59705\"\n",
        "       y=\"57.268829\"\n",
        "       id=\"text1026\"><tspan\n",
        "         sodipodi:role=\"line\"\n",
        "         x=\"256.59705\"\n",
        "         y=\"57.268829\"\n",
        "         id=\"tspan1024\"\n",
        "         style=\"stroke-width:0.112996\"><tspan\n",
        "           dx=\"0\"\n",
        "           dy=\"0\"\n",
        "           style=\"font-style:normal;font-variant:normal;font-weight:400;font-size:2.70484px;font-family:'Liberation Sans';fill:#000000;stroke-width:0.112996\"\n",
        "           id=\"tspan1022\">samtools faidx</tspan></tspan></text>\n",
        "    <path\n",
        "       style=\"fill:#000000;fill-opacity:1;fill-rule:evenodd;stroke:none;stroke-width:0.112996\"\n",
        "       d=\"m 296.89293,58.734902 v -0.221616 -0.217353 h 11.85223 v 0.217353 0.221616 z\"\n",
        "       id=\"path1028\" />\n",
        "    <path\n",
        "       style=\"fill:#000000;fill-opacity:1;fill-rule:evenodd;stroke:none;stroke-width:0.112996\"\n",
        "       d=\"m 311.50684,58.513286 -2.88954,-0.963181 v 1.926363 z\"\n",
        "       id=\"path1030\" />\n",
        "    <path\n",
        "       style=\"fill:#000000;fill-opacity:1;fill-rule:evenodd;stroke:none;stroke-width:0.112996\"\n",
        "       d=\"m 251.91753,78.53976 h -0.22161 -0.21736 v -3.247536 h 0.21736 0.22161 z\"\n",
        "       id=\"path1032\" />\n",
        "    <path\n",
        "       style=\"fill:#000000;fill-opacity:1;fill-rule:evenodd;stroke:none;stroke-width:0.112996\"\n",
        "       d=\"m 251.47856,75.292224 c 0,-0.03835 0.009,-0.07671 0.0256,-0.110808 0.0213,-0.03408 0.0469,-0.05967 0.081,-0.08098 0.0341,-0.01704 0.0725,-0.02558 0.11082,-0.02558 v 0.217357 z\"\n",
        "       id=\"path1034\" />\n",
        "    <path\n",
        "       style=\"fill:#000000;fill-opacity:1;fill-rule:evenodd;stroke:none;stroke-width:0.112996\"\n",
        "       d=\"m 251.69592,75.513844 v -0.22162 -0.217354 h 67.657 v 0.217354 0.22162 z\"\n",
        "       id=\"path1036\" />\n",
        "    <path\n",
        "       style=\"fill:#000000;fill-opacity:1;fill-rule:evenodd;stroke:none;stroke-width:0.112996\"\n",
        "       d=\"m 319.57454,75.292224 c 0,0.03835 -0.0128,0.07671 -0.0298,0.110808 -0.0213,0.03408 -0.0469,0.05967 -0.081,0.08098 -0.0341,0.01704 -0.0725,0.02985 -0.11081,0.02985 v -0.221616 z\"\n",
        "       id=\"path1038\" />\n",
        "    <path\n",
        "       style=\"fill:#000000;fill-opacity:1;fill-rule:evenodd;stroke:none;stroke-width:0.112996\"\n",
        "       d=\"m 319.57454,75.292224 h -0.22162 -0.21735 v -8.604691 h 0.21735 0.22162 z\"\n",
        "       id=\"path1040\" />\n",
        "    <path\n",
        "       style=\"fill:#000000;fill-opacity:1;fill-rule:evenodd;stroke:none;stroke-width:0.112996\"\n",
        "       d=\"m 319.35292,63.925845 -0.96317,2.889545 h 1.92635 z\"\n",
        "       id=\"path1042\" />\n",
        "    <path\n",
        "       style=\"fill:#000000;fill-opacity:1;fill-rule:evenodd;stroke:none;stroke-width:0.112996\"\n",
        "       d=\"m 241.1947,63.925845 h 0.21735 0.22161 v 2.13093 h -0.22161 -0.21735 z\"\n",
        "       id=\"path1044\" />\n",
        "    <path\n",
        "       style=\"fill:#000000;fill-opacity:1;fill-rule:evenodd;stroke:none;stroke-width:0.112996\"\n",
        "       d=\"m 241.41205,66.278395 c -0.0383,0 -0.0767,-0.01277 -0.11081,-0.02985 -0.0341,-0.02131 -0.0597,-0.04688 -0.081,-0.08098 -0.017,-0.03408 -0.0256,-0.07245 -0.0256,-0.110808 h 0.21736 z\"\n",
        "       id=\"path1046\" />\n",
        "    <path\n",
        "       style=\"fill:#000000;fill-opacity:1;fill-rule:evenodd;stroke:none;stroke-width:0.112996\"\n",
        "       d=\"m 241.41205,66.278395 v -0.22162 -0.217353 h 77.31012 v 0.217353 0.22162 z\"\n",
        "       id=\"path1048\" />\n",
        "    <path\n",
        "       style=\"fill:#000000;fill-opacity:1;fill-rule:evenodd;stroke:none;stroke-width:0.112996\"\n",
        "       d=\"m 319.35292,63.925845 -1.87522,2.39943 1.81556,0.647802 z\"\n",
        "       id=\"path1050\" />\n",
        "  </g>\n",
        "</svg>\n"
      ],
      "metadata": {
        "cellView": "form",
        "id": "oPl0bh6yI-jQ"
      },
      "execution_count": null,
      "outputs": []
    },
    {
      "cell_type": "code",
      "source": [
        "from IPython.display import SVG, display\n",
        "display(SVG(\"flowchart.svg\"))"
      ],
      "metadata": {
        "colab": {
          "base_uri": "https://localhost:8080/",
          "height": 238
        },
        "id": "TR8EGCZ_4YZt",
        "outputId": "5730d9bf-50e2-4d3b-acf1-9ca04148c04c"
      },
      "execution_count": null,
      "outputs": [
        {
          "output_type": "display_data",
          "data": {
            "text/plain": [
              "<IPython.core.display.SVG object>"
            ],
            "image/svg+xml": "<svg xmlns:dc=\"http://purl.org/dc/elements/1.1/\" xmlns:cc=\"http://creativecommons.org/ns#\" xmlns:rdf=\"http://www.w3.org/1999/02/22-rdf-syntax-ns#\" xmlns:svg=\"http://www.w3.org/2000/svg\" xmlns=\"http://www.w3.org/2000/svg\" xmlns:sodipodi=\"http://sodipodi.sourceforge.net/DTD/sodipodi-0.dtd\" xmlns:inkscape=\"http://www.inkscape.org/namespaces/inkscape\" width=\"199.72775mm\" height=\"57.377407mm\" viewBox=\"0 0 199.72775 57.377408\" version=\"1.1\" id=\"svg8\" inkscape:version=\"1.0.2 (e86c870879, 2021-01-15)\" sodipodi:docname=\"SRA genome alignment file flowchart2.svg\">\n  <defs id=\"defs2\">\n    <pattern id=\"EMFhbasepattern\" patternUnits=\"userSpaceOnUse\" width=\"6\" height=\"6\" x=\"0\" y=\"0\"/>\n  </defs>\n  <sodipodi:namedview id=\"base\" pagecolor=\"#ffffff\" bordercolor=\"#666666\" borderopacity=\"1.0\" inkscape:pageopacity=\"0.0\" inkscape:pageshadow=\"2\" inkscape:zoom=\"0.49497475\" inkscape:cx=\"32.469245\" inkscape:cy=\"217.4462\" inkscape:document-units=\"mm\" inkscape:current-layer=\"layer1\" inkscape:document-rotation=\"0\" showgrid=\"false\" fit-margin-top=\"0\" fit-margin-left=\"0\" fit-margin-right=\"0\" fit-margin-bottom=\"0\" inkscape:window-width=\"1920\" inkscape:window-height=\"997\" inkscape:window-x=\"-8\" inkscape:window-y=\"15\" inkscape:window-maximized=\"1\"/>\n  <metadata id=\"metadata5\">\n    <rdf:RDF>\n      <cc:Work rdf:about=\"\">\n        <dc:format>image/svg+xml</dc:format>\n        <dc:type rdf:resource=\"http://purl.org/dc/dcmitype/StillImage\"/>\n        <dc:title/>\n      </cc:Work>\n    </rdf:RDF>\n  </metadata>\n  <g inkscape:label=\"Layer 1\" inkscape:groupmode=\"layer\" id=\"layer1\" transform=\"translate(-133.97059,-38.486812)\">\n    <path style=\"fill:#ffffff;fill-opacity:1;fill-rule:evenodd;stroke:none;stroke-width:0.112996\" d=\"m 136.42541,38.486812 v 0 c -0.43044,0 -0.85236,0.11507 -1.22741,0.328163 -0.37504,0.217355 -0.6819,0.524209 -0.89925,0.899252 -0.21309,0.375044 -0.32816,0.796968 -0.32816,1.227415 v 52.467747 0 c 0,0.430445 0.11507,0.85237 0.32816,1.227415 0.21735,0.375045 0.52421,0.681899 0.89925,0.899253 0.37505,0.213091 0.79697,0.328161 1.22741,0.328161 h 194.8181 v 0 c 0.43045,0 0.85237,-0.11507 1.22742,-0.328161 0.37504,-0.217354 0.68189,-0.524208 0.89925,-0.899253 0.21309,-0.375045 0.32816,-0.79697 0.32816,-1.227415 v -52.467747 0 0 c 0,-0.430447 -0.11507,-0.852371 -0.32816,-1.227415 -0.21736,-0.375043 -0.52421,-0.681897 -0.89925,-0.899252 -0.37505,-0.213093 -0.79697,-0.328163 -1.22742,-0.328163 z\" id=\"path836\"/>\n    <path style=\"fill:#f5f5f5;fill-opacity:1;fill-rule:evenodd;stroke:none;stroke-width:0.112996\" d=\"m 138.11737,72.585945 h 0.004 c -0.14917,0 -0.28981,0.03835 -0.41767,0.110807 -0.12785,0.07245 -0.2344,0.178999 -0.30685,0.306855 -0.0725,0.127857 -0.11081,0.268495 -0.11081,0.417663 v 17.818834 0 c 0,0.149163 0.0384,0.289806 0.11081,0.417659 0.0725,0.127856 0.179,0.234402 0.30685,0.306854 0.12786,0.07245 0.2685,0.110808 0.41767,0.110808 h 26.95199 v 0 c 0.14916,0 0.28981,-0.03835 0.41766,-0.110808 0.12786,-0.07245 0.23441,-0.178998 0.30685,-0.306854 0.0725,-0.127853 0.11082,-0.268496 0.11082,-0.417659 v -17.823097 0.0043 0 c 0,-0.149167 -0.0384,-0.289806 -0.11082,-0.417662 -0.0724,-0.127857 -0.17899,-0.234402 -0.30685,-0.306855 -0.12785,-0.07245 -0.2685,-0.110808 -0.41766,-0.110808 z\" id=\"path838\"/>\n    <text xml:space=\"preserve\" style=\"font-style:normal;font-variant:normal;font-weight:400;font-size:2.70484px;line-height:125%;font-family:'Liberation Sans';text-align:start;letter-spacing:0px;word-spacing:0px;text-anchor:start;fill:#000000;fill-opacity:1;stroke:none;stroke-width:0.112996\" x=\"140.20143\" y=\"77.21006\" id=\"text844\"><tspan sodipodi:role=\"line\" x=\"140.20143\" y=\"77.21006\" id=\"tspan842\" style=\"stroke-width:0.112996\"><tspan dx=\"0\" dy=\"0\" style=\"font-style:normal;font-variant:normal;font-weight:400;font-size:2.70484px;font-family:'Liberation Sans';fill:#000000;stroke-width:0.112996\" id=\"tspan840\">Aligned sequences</tspan></tspan></text>\n    <path style=\"fill:#f5f5f5;fill-opacity:1;fill-rule:evenodd;stroke:none;stroke-width:0.112996\" d=\"m 138.88877,41.798276 h 0.004 c -0.20031,0 -0.39635,0.05114 -0.56683,0.153426 -0.17474,0.09802 -0.31538,0.238664 -0.41341,0.4134 -0.10228,0.170474 -0.15342,0.366521 -0.15342,0.56683 v 24.190308 0 c 0,0.200309 0.0511,0.396356 0.15342,0.56683 0.098,0.174736 0.23867,0.315375 0.4134,0.4134 0.17048,0.102284 0.36652,0.153425 0.56683,0.153425 H 255.233 v 0 c 0.20029,0 0.39634,-0.05114 0.56681,-0.153425 0.17474,-0.09802 0.31539,-0.238664 0.41341,-0.4134 0.10228,-0.170474 0.15343,-0.366521 0.15343,-0.56683 v -24.19457 0.0043 0 c 0,-0.200309 -0.0512,-0.396351 -0.15343,-0.566829 -0.098,-0.174737 -0.23867,-0.315375 -0.41341,-0.413401 -0.17047,-0.102283 -0.36652,-0.153425 -0.56681,-0.153425 z\" id=\"path846\"/>\n    <text xml:space=\"preserve\" style=\"font-style:normal;font-variant:normal;font-weight:400;font-size:2.70484px;line-height:125%;font-family:'Liberation Sans';text-align:start;letter-spacing:0px;word-spacing:0px;text-anchor:start;fill:#000000;fill-opacity:1;stroke:none;stroke-width:0.112996\" x=\"186.32753\" y=\"46.000469\" id=\"text852\"><tspan sodipodi:role=\"line\" x=\"186.32753\" y=\"46.000469\" id=\"tspan850\" style=\"stroke-width:0.112996\"><tspan dx=\"0\" dy=\"0\" style=\"font-style:normal;font-variant:normal;font-weight:400;font-size:2.70484px;font-family:'Liberation Sans';fill:#000000;stroke-width:0.112996\" id=\"tspan848\">Genome template</tspan></tspan></text>\n    <path style=\"fill:#e1e1e1;fill-opacity:1;fill-rule:evenodd;stroke:none;stroke-width:0.112996\" d=\"m 151.56354,89.364883 h -7.85035 V 78.53976 h 15.69643 v 10.825123 z\" id=\"path854\"/>\n    <text xml:space=\"preserve\" style=\"font-style:normal;font-variant:normal;font-weight:400;font-size:2.70484px;line-height:112.028%;font-family:'Liberation Sans';text-align:center;letter-spacing:0px;word-spacing:0px;text-anchor:middle;fill:#000000;fill-opacity:1;stroke:none;stroke-width:0.112996\" x=\"151.55981\" y=\"83.376976\" id=\"text864\"><tspan sodipodi:role=\"line\" x=\"151.55981\" y=\"83.376976\" id=\"tspan858\" style=\"stroke-width:0.112996\"><tspan dx=\"0\" dy=\"0\" style=\"font-style:normal;font-variant:normal;font-weight:400;font-size:2.70484px;font-family:'Liberation Sans';fill:#000000;stroke-width:0.112996\" id=\"tspan856\">.fastq</tspan></tspan><tspan sodipodi:role=\"line\" x=\"151.55981\" y=\"86.407158\" id=\"tspan862\" style=\"stroke-width:0.112996\"><tspan dx=\"0\" dy=\"0\" style=\"font-style:normal;font-variant:normal;font-weight:400;font-size:2.70484px;font-family:'Liberation Sans';fill:#000000;stroke-width:0.112996\" id=\"tspan860\">(SRR...)</tspan></tspan></text>\n    <path style=\"fill:#e1e1e1;fill-opacity:1;fill-rule:evenodd;stroke:none;stroke-width:0.112996\" d=\"m 151.02228,63.925845 h -7.85034 V 53.100727 h 15.69643 v 10.825118 z\" id=\"path866\"/>\n    <text xml:space=\"preserve\" style=\"font-style:normal;font-variant:normal;font-weight:400;font-size:2.70484px;line-height:125%;font-family:'Liberation Sans';text-align:start;letter-spacing:0px;word-spacing:0px;text-anchor:start;fill:#000000;fill-opacity:1;stroke:none;stroke-width:0.112996\" x=\"148.76776\" y=\"59.455162\" id=\"text872\"><tspan sodipodi:role=\"line\" x=\"148.76776\" y=\"59.455162\" id=\"tspan870\" style=\"stroke-width:0.112996\"><tspan dx=\"0\" dy=\"0\" style=\"font-style:normal;font-variant:normal;font-weight:400;font-size:2.70484px;font-family:'Liberation Sans';fill:#000000;stroke-width:0.112996\" id=\"tspan868\">.fna</tspan></tspan></text>\n    <path style=\"fill:#e1e1e1;fill-opacity:1;fill-rule:evenodd;stroke:none;stroke-width:0.112996\" d=\"m 191.61649,63.925845 h -7.85034 V 53.100727 h 15.69642 v 10.825118 z\" id=\"path874\"/>\n    <text xml:space=\"preserve\" style=\"font-style:normal;font-variant:normal;font-weight:400;font-size:2.70484px;line-height:112.028%;font-family:'Liberation Sans';text-align:center;letter-spacing:0px;word-spacing:0px;text-anchor:middle;fill:#000000;fill-opacity:1;stroke:none;stroke-width:0.112996\" x=\"191.63112\" y=\"57.937939\" id=\"text886\"><tspan sodipodi:role=\"line\" x=\"191.63112\" y=\"57.937939\" id=\"tspan880\" style=\"stroke-width:0.112996\"><tspan dx=\"0\" dy=\"0\" style=\"font-style:normal;font-variant:normal;font-weight:400;font-size:2.70484px;font-family:'Liberation Sans';fill:#000000;stroke-width:0.112996\" id=\"tspan876\">“</tspan><tspan dx=\"0\" dy=\"0\" style=\"font-style:normal;font-variant:normal;font-weight:400;font-size:2.70484px;font-family:'Liberation Sans';fill:#000000;stroke-width:0.112996\" id=\"tspan878\">genome”</tspan></tspan><tspan sodipodi:role=\"line\" x=\"191.63112\" y=\"60.968117\" id=\"tspan884\" style=\"stroke-width:0.112996\"><tspan dx=\"0\" dy=\"0\" style=\"font-style:normal;font-variant:normal;font-weight:400;font-size:2.70484px;font-family:'Liberation Sans';fill:#000000;stroke-width:0.112996\" id=\"tspan882\">files</tspan></tspan></text>\n    <path style=\"fill:#e1e1e1;fill-opacity:1;fill-rule:evenodd;stroke:none;stroke-width:0.112996\" d=\"m 210.56045,89.364883 h -7.85034 V 78.53976 h 15.69642 v 10.825123 z\" id=\"path888\"/>\n    <text xml:space=\"preserve\" style=\"font-style:normal;font-variant:normal;font-weight:400;font-size:2.70484px;line-height:125%;font-family:'Liberation Sans';text-align:start;letter-spacing:0px;word-spacing:0px;text-anchor:start;fill:#000000;fill-opacity:1;stroke:none;stroke-width:0.112996\" x=\"207.55585\" y=\"84.894203\" id=\"text894\"><tspan sodipodi:role=\"line\" x=\"207.55585\" y=\"84.894203\" id=\"tspan892\" style=\"stroke-width:0.112996\"><tspan dx=\"0\" dy=\"0\" style=\"font-style:normal;font-variant:normal;font-weight:400;font-size:2.70484px;font-family:'Liberation Sans';fill:#000000;stroke-width:0.112996\" id=\"tspan890\">.bam</tspan></tspan></text>\n    <path style=\"fill:#e1e1e1;fill-opacity:1;fill-rule:evenodd;stroke:none;stroke-width:0.112996\" d=\"m 251.69592,89.364883 h -7.85035 V 78.53976 H 259.542 v 10.825123 z\" id=\"path896\"/>\n    <text xml:space=\"preserve\" style=\"font-style:normal;font-variant:normal;font-weight:400;font-size:2.70484px;line-height:125%;font-family:'Liberation Sans';text-align:start;letter-spacing:0px;word-spacing:0px;text-anchor:start;fill:#000000;fill-opacity:1;stroke:none;stroke-width:0.112996\" x=\"246.05748\" y=\"84.894203\" id=\"text902\"><tspan sodipodi:role=\"line\" x=\"246.05748\" y=\"84.894203\" id=\"tspan900\" style=\"stroke-width:0.112996\"><tspan dx=\"0\" dy=\"0\" style=\"font-style:normal;font-variant:normal;font-weight:400;font-size:2.70484px;font-family:'Liberation Sans';fill:#000000;stroke-width:0.112996\" id=\"tspan898\">.sort.bam</tspan></tspan></text>\n    <path style=\"fill:#e1e1e1;fill-opacity:1;fill-rule:evenodd;stroke:none;stroke-width:0.112996\" d=\"m 298.5167,89.364883 h -9.74262 V 78.53976 h 19.48523 v 10.825123 z\" id=\"path904\"/>\n    <text xml:space=\"preserve\" style=\"font-style:normal;font-variant:normal;font-weight:400;font-size:2.70484px;line-height:125%;font-family:'Liberation Sans';text-align:start;letter-spacing:0px;word-spacing:0px;text-anchor:start;fill:#000000;fill-opacity:1;stroke:none;stroke-width:0.112996\" x=\"290.70471\" y=\"84.894203\" id=\"text910\"><tspan sodipodi:role=\"line\" x=\"290.70471\" y=\"84.894203\" id=\"tspan908\" style=\"stroke-width:0.112996\"><tspan dx=\"0\" dy=\"0\" style=\"font-style:normal;font-variant:normal;font-weight:400;font-size:2.70484px;font-family:'Liberation Sans';fill:#000000;stroke-width:0.112996\" id=\"tspan906\">.sort.bam.bai</tspan></tspan></text>\n    <path style=\"fill:#e1e1e1;fill-opacity:1;fill-rule:evenodd;stroke:none;stroke-width:0.112996\" d=\"m 319.35292,63.925845 h -7.85034 V 53.100727 h 15.69643 v 10.825118 z\" id=\"path912\"/>\n    <text xml:space=\"preserve\" style=\"font-style:normal;font-variant:normal;font-weight:700;font-size:4.2091px;line-height:125%;font-family:'Liberation Sans';text-align:start;letter-spacing:0px;word-spacing:0px;text-anchor:start;fill:#000000;fill-opacity:1;stroke:none;stroke-width:0.112996\" x=\"315.73462\" y=\"59.975105\" id=\"text918\"><tspan sodipodi:role=\"line\" x=\"315.73462\" y=\"59.975105\" id=\"tspan916\" style=\"stroke-width:0.112996\"><tspan dx=\"0\" dy=\"0\" style=\"font-style:normal;font-variant:normal;font-weight:700;font-size:4.2091px;font-family:'Liberation Sans';fill:#000000;stroke-width:0.112996\" id=\"tspan914\">IGV</tspan></tspan></text>\n    <path style=\"fill:#000000;fill-opacity:1;fill-rule:evenodd;stroke:none;stroke-width:0.112996\" d=\"m 199.46683,58.734902 v -0.221616 -0.217353 h 11.09362 v 0.217353 0.221616 z\" id=\"path920\"/>\n    <path style=\"fill:#000000;fill-opacity:1;fill-rule:evenodd;stroke:none;stroke-width:0.112996\" d=\"m 210.56045,58.295933 c 0.0384,0 0.0767,0.0085 0.11081,0.02558 0.0341,0.02131 0.0597,0.04688 0.081,0.08097 0.017,0.03408 0.0299,0.07245 0.0299,0.110812 v 0 h -0.22162 z\" id=\"path922\"/>\n    <path style=\"fill:#000000;fill-opacity:1;fill-rule:evenodd;stroke:none;stroke-width:0.112996\" d=\"m 210.3431,58.513286 h 0.21735 0.22162 v 17.264791 h -0.22162 -0.21735 z\" id=\"path924\"/>\n    <path style=\"fill:#000000;fill-opacity:1;fill-rule:evenodd;stroke:none;stroke-width:0.112996\" d=\"m 210.56045,78.53976 0.96318,-2.88954 h -1.92636 z\" id=\"path926\"/>\n    <text xml:space=\"preserve\" style=\"font-style:normal;font-variant:normal;font-weight:400;font-size:2.70484px;line-height:112.028%;font-family:'Liberation Sans';text-align:center;letter-spacing:0px;word-spacing:0px;text-anchor:middle;fill:#000000;fill-opacity:1;stroke:none;stroke-width:0.112996\" x=\"210.42917\" y=\"53.982929\" id=\"text936\"><tspan sodipodi:role=\"line\" x=\"210.42917\" y=\"53.982929\" id=\"tspan930\" style=\"stroke-width:0.112996\"><tspan dx=\"0\" dy=\"0\" style=\"font-style:normal;font-variant:normal;font-weight:400;font-size:2.70484px;font-family:'Liberation Sans';fill:#000000;stroke-width:0.112996\" id=\"tspan928\">HISAT2 and </tspan></tspan><tspan sodipodi:role=\"line\" x=\"210.42917\" y=\"57.013107\" id=\"tspan934\" style=\"stroke-width:0.112996\"><tspan dx=\"0\" dy=\"0\" style=\"font-style:normal;font-variant:normal;font-weight:400;font-size:2.70484px;font-family:'Liberation Sans';fill:#000000;stroke-width:0.112996\" id=\"tspan932\">samtools view</tspan></tspan></text>\n    <path style=\"fill:#000000;fill-opacity:1;fill-rule:evenodd;stroke:none;stroke-width:0.112996\" d=\"m 159.41388,84.17394 v -0.221616 -0.217357 h 40.53881 v 0.217357 0.221616 z\" id=\"path938\"/>\n    <path style=\"fill:#000000;fill-opacity:1;fill-rule:evenodd;stroke:none;stroke-width:0.112996\" d=\"m 202.71437,83.952324 -2.88954,-0.963181 v 1.926358 z\" id=\"path940\"/>\n    <text xml:space=\"preserve\" style=\"font-style:normal;font-variant:normal;font-weight:400;font-size:2.70484px;line-height:112.028%;font-family:'Liberation Sans';text-align:center;letter-spacing:0px;word-spacing:0px;text-anchor:middle;fill:#000000;fill-opacity:1;stroke:none;stroke-width:0.112996\" x=\"181.06496\" y=\"79.183304\" id=\"text950\"><tspan sodipodi:role=\"line\" x=\"181.06496\" y=\"79.183304\" id=\"tspan944\" style=\"stroke-width:0.112996\"><tspan dx=\"0\" dy=\"0\" style=\"font-style:normal;font-variant:normal;font-weight:400;font-size:2.70484px;font-family:'Liberation Sans';fill:#000000;stroke-width:0.112996\" id=\"tspan942\">HISAT2 and </tspan></tspan><tspan sodipodi:role=\"line\" x=\"181.06496\" y=\"82.213486\" id=\"tspan948\" style=\"stroke-width:0.112996\"><tspan dx=\"0\" dy=\"0\" style=\"font-style:normal;font-variant:normal;font-weight:400;font-size:2.70484px;font-family:'Liberation Sans';fill:#000000;stroke-width:0.112996\" id=\"tspan946\">samtools view</tspan></tspan></text>\n    <path style=\"fill:#000000;fill-opacity:1;fill-rule:evenodd;stroke:none;stroke-width:0.112996\" d=\"m 218.4108,84.17394 v -0.221616 -0.217357 h 22.67735 v 0.217357 0.221616 z\" id=\"path952\"/>\n    <path style=\"fill:#000000;fill-opacity:1;fill-rule:evenodd;stroke:none;stroke-width:0.112996\" d=\"m 243.84983,83.952324 -2.88954,-0.963181 v 1.926358 z\" id=\"path954\"/>\n    <text xml:space=\"preserve\" style=\"font-style:normal;font-variant:normal;font-weight:400;font-size:2.70484px;line-height:125%;font-family:'Liberation Sans';text-align:start;letter-spacing:0px;word-spacing:0px;text-anchor:start;fill:#000000;fill-opacity:1;stroke:none;stroke-width:0.112996\" x=\"223.09457\" y=\"81.864014\" id=\"text960\"><tspan sodipodi:role=\"line\" x=\"223.09457\" y=\"81.864014\" id=\"tspan958\" style=\"stroke-width:0.112996\"><tspan dx=\"0\" dy=\"0\" style=\"font-style:normal;font-variant:normal;font-weight:400;font-size:2.70484px;font-family:'Liberation Sans';fill:#000000;stroke-width:0.112996\" id=\"tspan956\">samtools sort</tspan></tspan></text>\n    <path style=\"fill:#000000;fill-opacity:1;fill-rule:evenodd;stroke:none;stroke-width:0.112996\" d=\"m 259.54626,84.17394 v -0.221616 -0.217357 h 26.46614 v 0.217357 0.221616 z\" id=\"path962\"/>\n    <path style=\"fill:#000000;fill-opacity:1;fill-rule:evenodd;stroke:none;stroke-width:0.112996\" d=\"m 288.77408,83.952324 -2.88954,-0.963181 v 1.926358 z\" id=\"path964\"/>\n    <text xml:space=\"preserve\" style=\"font-style:normal;font-variant:normal;font-weight:400;font-size:2.70484px;line-height:125%;font-family:'Liberation Sans';text-align:start;letter-spacing:0px;word-spacing:0px;text-anchor:start;fill:#000000;fill-opacity:1;stroke:none;stroke-width:0.112996\" x=\"265.15912\" y=\"81.864014\" id=\"text970\"><tspan sodipodi:role=\"line\" x=\"265.15912\" y=\"81.864014\" id=\"tspan968\" style=\"stroke-width:0.112996\"><tspan dx=\"0\" dy=\"0\" style=\"font-style:normal;font-variant:normal;font-weight:400;font-size:2.70484px;font-family:'Liberation Sans';fill:#000000;stroke-width:0.112996\" id=\"tspan966\">samtools index</tspan></tspan></text>\n    <path style=\"fill:#000000;fill-opacity:1;fill-rule:evenodd;stroke:none;stroke-width:0.112996\" d=\"m 158.87263,58.734902 v -0.221616 -0.217353 h 22.13609 v 0.217353 0.221616 z\" id=\"path972\"/>\n    <path style=\"fill:#000000;fill-opacity:1;fill-rule:evenodd;stroke:none;stroke-width:0.112996\" d=\"m 183.77041,58.513286 -2.88954,-0.963181 v 1.926363 z\" id=\"path974\"/>\n    <text xml:space=\"preserve\" style=\"font-style:normal;font-variant:normal;font-weight:400;font-size:2.70484px;line-height:125%;font-family:'Liberation Sans';text-align:start;letter-spacing:0px;word-spacing:0px;text-anchor:start;fill:#000000;fill-opacity:1;stroke:none;stroke-width:0.112996\" x=\"163.39445\" y=\"56.774445\" id=\"text980\"><tspan sodipodi:role=\"line\" x=\"163.39445\" y=\"56.774445\" id=\"tspan978\" style=\"stroke-width:0.112996\"><tspan dx=\"0\" dy=\"0\" style=\"font-style:normal;font-variant:normal;font-weight:400;font-size:2.70484px;font-family:'Liberation Sans';fill:#000000;stroke-width:0.112996\" id=\"tspan976\">HISAT2-build</tspan></tspan></text>\n    <path style=\"fill:#000000;fill-opacity:1;fill-rule:evenodd;stroke:none;stroke-width:0.112996\" d=\"m 308.25931,84.17394 v -0.221616 -0.217357 h 11.09361 v 0.217357 0.221616 z\" id=\"path982\"/>\n    <path style=\"fill:#000000;fill-opacity:1;fill-rule:evenodd;stroke:none;stroke-width:0.112996\" d=\"m 319.57454,83.952324 c 0,0.03835 -0.0128,0.07671 -0.0298,0.110808 -0.0213,0.03408 -0.0469,0.05967 -0.081,0.08098 -0.0341,0.01704 -0.0725,0.02985 -0.11081,0.02985 v -0.221615 z\" id=\"path984\"/>\n    <path style=\"fill:#000000;fill-opacity:1;fill-rule:evenodd;stroke:none;stroke-width:0.112996\" d=\"m 319.57454,83.952324 h -0.22162 -0.21735 V 66.687533 h 0.21735 0.22162 z\" id=\"path986\"/>\n    <path style=\"fill:#000000;fill-opacity:1;fill-rule:evenodd;stroke:none;stroke-width:0.112996\" d=\"m 319.35292,63.925845 -0.96317,2.889545 h 1.92635 z\" id=\"path988\"/>\n    <path style=\"fill:#e1e1e1;fill-opacity:1;fill-rule:evenodd;stroke:none;stroke-width:0.112996\" d=\"m 241.41205,63.925845 h -7.85034 V 53.100727 h 15.69642 v 10.825118 z\" id=\"path990\"/>\n    <text xml:space=\"preserve\" style=\"font-style:normal;font-variant:normal;font-weight:400;font-size:2.70484px;line-height:125%;font-family:'Liberation Sans';text-align:start;letter-spacing:0px;word-spacing:0px;text-anchor:start;fill:#000000;fill-opacity:1;stroke:none;stroke-width:0.112996\" x=\"239.15753\" y=\"59.455162\" id=\"text996\"><tspan sodipodi:role=\"line\" x=\"239.15753\" y=\"59.455162\" id=\"tspan994\" style=\"stroke-width:0.112996\"><tspan dx=\"0\" dy=\"0\" style=\"font-style:normal;font-variant:normal;font-weight:400;font-size:2.70484px;font-family:'Liberation Sans';fill:#000000;stroke-width:0.112996\" id=\"tspan992\">.fna</tspan></tspan></text>\n    <path style=\"fill:#000000;fill-opacity:1;fill-rule:evenodd;stroke:none;stroke-width:0.112996\" d=\"m 241.63366,49.23522 h -0.22161 -0.21735 v -0.46028 h 0.21735 0.22161 z\" id=\"path998\"/>\n    <path style=\"fill:#000000;fill-opacity:1;fill-rule:evenodd;stroke:none;stroke-width:0.112996\" d=\"m 241.41205,48.557586 c 0.0384,0 0.0767,0.0085 0.11081,0.02558 0.0341,0.02131 0.0597,0.04688 0.081,0.08097 0.017,0.03408 0.0299,0.07245 0.0299,0.110808 v 0 h -0.22162 z\" id=\"path1000\"/>\n    <path style=\"fill:#000000;fill-opacity:1;fill-rule:evenodd;stroke:none;stroke-width:0.112996\" d=\"m 241.41205,48.557586 v 0.217354 0.221615 H 151.02228 V 48.77494 48.557586 Z\" id=\"path1002\"/>\n    <path style=\"fill:#000000;fill-opacity:1;fill-rule:evenodd;stroke:none;stroke-width:0.112996\" d=\"m 150.80493,48.77494 c 0,-0.03835 0.009,-0.07672 0.0256,-0.110808 0.0213,-0.03408 0.0469,-0.05967 0.081,-0.08098 0.0341,-0.01704 0.0725,-0.02558 0.1108,-0.02558 v 0.217353 z\" id=\"path1004\"/>\n    <path style=\"fill:#000000;fill-opacity:1;fill-rule:evenodd;stroke:none;stroke-width:0.112996\" d=\"m 150.80493,48.77494 h 0.21735 0.22162 v 4.325787 h -0.22162 -0.21735 z\" id=\"path1006\"/>\n    <path style=\"fill:#000000;fill-opacity:1;fill-rule:evenodd;stroke:none;stroke-width:0.112996\" d=\"m 240.66196,49.132936 h 1.50017 l -0.75008,3.967791 z\" id=\"path1008\"/>\n    <path style=\"fill:#e1e1e1;fill-opacity:1;fill-rule:evenodd;stroke:none;stroke-width:0.112996\" d=\"m 289.04258,63.925845 h -7.85034 V 53.100727 h 15.69643 v 10.825118 z\" id=\"path1010\"/>\n    <text xml:space=\"preserve\" style=\"font-style:normal;font-variant:normal;font-weight:400;font-size:2.70484px;line-height:125%;font-family:'Liberation Sans';text-align:start;letter-spacing:0px;word-spacing:0px;text-anchor:start;fill:#000000;fill-opacity:1;stroke:none;stroke-width:0.112996\" x=\"284.98105\" y=\"59.455162\" id=\"text1016\"><tspan sodipodi:role=\"line\" x=\"284.98105\" y=\"59.455162\" id=\"tspan1014\" style=\"stroke-width:0.112996\"><tspan dx=\"0\" dy=\"0\" style=\"font-style:normal;font-variant:normal;font-weight:400;font-size:2.70484px;font-family:'Liberation Sans';fill:#000000;stroke-width:0.112996\" id=\"tspan1012\">.fna.fai</tspan></tspan></text>\n    <path style=\"fill:#000000;fill-opacity:1;fill-rule:evenodd;stroke:none;stroke-width:0.112996\" d=\"m 249.26239,58.734902 v -0.221616 -0.217353 h 29.17243 v 0.217353 0.221616 z\" id=\"path1018\"/>\n    <path style=\"fill:#000000;fill-opacity:1;fill-rule:evenodd;stroke:none;stroke-width:0.112996\" d=\"m 281.19651,58.513286 -2.88954,-0.963181 v 1.926363 z\" id=\"path1020\"/>\n    <text xml:space=\"preserve\" style=\"font-style:normal;font-variant:normal;font-weight:400;font-size:2.70484px;line-height:125%;font-family:'Liberation Sans';text-align:start;letter-spacing:0px;word-spacing:0px;text-anchor:start;fill:#000000;fill-opacity:1;stroke:none;stroke-width:0.112996\" x=\"256.59705\" y=\"57.268829\" id=\"text1026\"><tspan sodipodi:role=\"line\" x=\"256.59705\" y=\"57.268829\" id=\"tspan1024\" style=\"stroke-width:0.112996\"><tspan dx=\"0\" dy=\"0\" style=\"font-style:normal;font-variant:normal;font-weight:400;font-size:2.70484px;font-family:'Liberation Sans';fill:#000000;stroke-width:0.112996\" id=\"tspan1022\">samtools faidx</tspan></tspan></text>\n    <path style=\"fill:#000000;fill-opacity:1;fill-rule:evenodd;stroke:none;stroke-width:0.112996\" d=\"m 296.89293,58.734902 v -0.221616 -0.217353 h 11.85223 v 0.217353 0.221616 z\" id=\"path1028\"/>\n    <path style=\"fill:#000000;fill-opacity:1;fill-rule:evenodd;stroke:none;stroke-width:0.112996\" d=\"m 311.50684,58.513286 -2.88954,-0.963181 v 1.926363 z\" id=\"path1030\"/>\n    <path style=\"fill:#000000;fill-opacity:1;fill-rule:evenodd;stroke:none;stroke-width:0.112996\" d=\"m 251.91753,78.53976 h -0.22161 -0.21736 v -3.247536 h 0.21736 0.22161 z\" id=\"path1032\"/>\n    <path style=\"fill:#000000;fill-opacity:1;fill-rule:evenodd;stroke:none;stroke-width:0.112996\" d=\"m 251.47856,75.292224 c 0,-0.03835 0.009,-0.07671 0.0256,-0.110808 0.0213,-0.03408 0.0469,-0.05967 0.081,-0.08098 0.0341,-0.01704 0.0725,-0.02558 0.11082,-0.02558 v 0.217357 z\" id=\"path1034\"/>\n    <path style=\"fill:#000000;fill-opacity:1;fill-rule:evenodd;stroke:none;stroke-width:0.112996\" d=\"m 251.69592,75.513844 v -0.22162 -0.217354 h 67.657 v 0.217354 0.22162 z\" id=\"path1036\"/>\n    <path style=\"fill:#000000;fill-opacity:1;fill-rule:evenodd;stroke:none;stroke-width:0.112996\" d=\"m 319.57454,75.292224 c 0,0.03835 -0.0128,0.07671 -0.0298,0.110808 -0.0213,0.03408 -0.0469,0.05967 -0.081,0.08098 -0.0341,0.01704 -0.0725,0.02985 -0.11081,0.02985 v -0.221616 z\" id=\"path1038\"/>\n    <path style=\"fill:#000000;fill-opacity:1;fill-rule:evenodd;stroke:none;stroke-width:0.112996\" d=\"m 319.57454,75.292224 h -0.22162 -0.21735 v -8.604691 h 0.21735 0.22162 z\" id=\"path1040\"/>\n    <path style=\"fill:#000000;fill-opacity:1;fill-rule:evenodd;stroke:none;stroke-width:0.112996\" d=\"m 319.35292,63.925845 -0.96317,2.889545 h 1.92635 z\" id=\"path1042\"/>\n    <path style=\"fill:#000000;fill-opacity:1;fill-rule:evenodd;stroke:none;stroke-width:0.112996\" d=\"m 241.1947,63.925845 h 0.21735 0.22161 v 2.13093 h -0.22161 -0.21735 z\" id=\"path1044\"/>\n    <path style=\"fill:#000000;fill-opacity:1;fill-rule:evenodd;stroke:none;stroke-width:0.112996\" d=\"m 241.41205,66.278395 c -0.0383,0 -0.0767,-0.01277 -0.11081,-0.02985 -0.0341,-0.02131 -0.0597,-0.04688 -0.081,-0.08098 -0.017,-0.03408 -0.0256,-0.07245 -0.0256,-0.110808 h 0.21736 z\" id=\"path1046\"/>\n    <path style=\"fill:#000000;fill-opacity:1;fill-rule:evenodd;stroke:none;stroke-width:0.112996\" d=\"m 241.41205,66.278395 v -0.22162 -0.217353 h 77.31012 v 0.217353 0.22162 z\" id=\"path1048\"/>\n    <path style=\"fill:#000000;fill-opacity:1;fill-rule:evenodd;stroke:none;stroke-width:0.112996\" d=\"m 319.35292,63.925845 -1.87522,2.39943 1.81556,0.647802 z\" id=\"path1050\"/>\n  </g>\n</svg>"
          },
          "metadata": {}
        }
      ]
    },
    {
      "cell_type": "markdown",
      "source": [
        "# Sequence Alignment Viewer\n",
        "\n",
        "##### Downloader, SRA aligner, and embedded IGV viewer, all-in-one.\n",
        "##### Unofficial notebook, courtesy of Wolfgang S."
      ],
      "metadata": {
        "id": "YgaR5YJxo_ep"
      }
    },
    {
      "cell_type": "markdown",
      "source": [
        "## 📦🛠️ Installation and setup"
      ],
      "metadata": {
        "id": "rl_tmNGDKmd6"
      }
    },
    {
      "cell_type": "code",
      "execution_count": null,
      "metadata": {
        "id": "3g23z0UHqXn4"
      },
      "outputs": [],
      "source": [
        "!pip install -q condacolab\n",
        "import condacolab\n",
        "condacolab.install()"
      ]
    },
    {
      "cell_type": "code",
      "source": [
        "!conda install -q -c bioconda samtools igv-notebook\n",
        "!conda install -q -c biobuilds hisat2\n",
        "!conda install -q -c conda-forge ncbi-datasets-cli"
      ],
      "metadata": {
        "collapsed": true,
        "id": "ikyuQQAupoaI"
      },
      "execution_count": null,
      "outputs": []
    },
    {
      "cell_type": "code",
      "source": [
        "!conda list | grep -e samtools -e hisat2 -e ncbi-datasets-cli -e igv-notebook"
      ],
      "metadata": {
        "id": "1yacIO3BqKU-"
      },
      "execution_count": null,
      "outputs": []
    },
    {
      "cell_type": "code",
      "source": [
        "!mkdir -p /root/tools/ncbi_sra_tools/\n",
        "!wget -P /root/tools/ncbi_sra_tools/ https://ftp-trace.ncbi.nlm.nih.gov/sra/sdk/3.0.0/sratoolkit.3.0.0-ubuntu64.tar.gz\n",
        "!tar -C /root/tools/ncbi_sra_tools/ -xzf /root/tools/ncbi_sra_tools/sratoolkit.3.0.0-ubuntu64.tar.gz\n",
        "\n",
        "import os\n",
        "os.environ['PATH'] += \":/root/tools/ncbi_sra_tools/sratoolkit.3.0.0-ubuntu64/bin\""
      ],
      "metadata": {
        "id": "LVzQwV61VIzc"
      },
      "execution_count": null,
      "outputs": []
    },
    {
      "cell_type": "code",
      "source": [
        "!mkdir -p ~/.ncbi/"
      ],
      "metadata": {
        "id": "Sk4VruHGPlN6"
      },
      "execution_count": null,
      "outputs": []
    },
    {
      "cell_type": "code",
      "source": [
        "%%writefile ~/.ncbi/user-settings.mkfg\n",
        "## auto-generated configuration file - DO NOT EDIT ##\n",
        "\n",
        "/LIBS/GUID = \"4aaa9bed-32da-4ac1-9cac-a35318f03659\"\n",
        "/config/default = \"false\"\n",
        "/repository/user/ad/public/apps/file/volumes/flatAd = \".\"\n",
        "/repository/user/ad/public/apps/refseq/volumes/refseqAd = \".\"\n",
        "/repository/user/ad/public/apps/sra/volumes/sraAd = \".\"\n",
        "/repository/user/ad/public/apps/sraPileup/volumes/ad = \".\"\n",
        "/repository/user/ad/public/apps/sraRealign/volumes/ad = \".\"\n",
        "/repository/user/ad/public/apps/wgs/volumes/wgsAd = \".\""
      ],
      "metadata": {
        "id": "1hP5R7V2Pax-"
      },
      "execution_count": null,
      "outputs": []
    },
    {
      "cell_type": "code",
      "source": [
        "# Optional: generate .mkfg file on your own:\n",
        "# ↓ Run this code below, but just hit `<Enter>`; don't configure anything.\n",
        "# It should return `Segmentation Fault`, this is normal.\n",
        "\n",
        "# !vdb-config --interactive-mode textual --interactive\n",
        "# !vdb-config --interactive"
      ],
      "metadata": {
        "id": "yDl6cSPNUWFW",
        "collapsed": true
      },
      "execution_count": null,
      "outputs": []
    },
    {
      "cell_type": "markdown",
      "source": [
        "## 📁<sub><small>⭳</small></sub> Data download"
      ],
      "metadata": {
        "id": "GK5FgHbu-xFT"
      }
    },
    {
      "cell_type": "code",
      "source": [
        "#@title Links and tutorials\n",
        "# link to SRA Toolkit guide:\n",
        "# https://github.com/ncbi/sra-tools/wiki/HowTo:-fasterq-dump\n",
        "# https://www.ncbi.nlm.nih.gov/sra/docs/sradownload/\n",
        "\n",
        "# IGV example:\n",
        "# https://github.com/igvteam/igv-notebook\n",
        "\n",
        "# E. Coli data:\n",
        "# SRR reads\n",
        "# https://www.ncbi.nlm.nih.gov/sra/SRX29279086[accn]\n",
        "# https://www.ncbi.nlm.nih.gov/sra/SRX29279081[accn]\n",
        "\n",
        "# Reference genome\n",
        "# https://www.ncbi.nlm.nih.gov/nuccore/NC_000913.3\n",
        "\n",
        "# NCBI search query for small file SRR reads:\n",
        "# (\"Escherichia coli\"[Organism] OR E. coli[All Fields]) AND \"Escherichia coli\"[orgn] AND (\"platform oxford nanopore\"[Properties] AND \"cloud gs\"[Properties] AND \"filetype fastq\"[Properties])"
      ],
      "metadata": {
        "id": "qwMyOMX5Psye",
        "cellView": "form"
      },
      "execution_count": null,
      "outputs": []
    },
    {
      "cell_type": "code",
      "source": [
        "# restart BAM alignment\n",
        "!rm -rf FASTQ_files\n",
        "!rm -rf mapped/"
      ],
      "metadata": {
        "id": "60PmLtl7qRRu"
      },
      "execution_count": null,
      "outputs": []
    },
    {
      "cell_type": "code",
      "source": [
        "!time fasterq-dump SRR34090825 -O FASTQ_files/"
      ],
      "metadata": {
        "id": "wkHbRzKMdIt8"
      },
      "execution_count": null,
      "outputs": []
    },
    {
      "cell_type": "code",
      "source": [
        "# 0:30\n",
        "!datasets download genome accession GCF_000005845.2 --include gff3,rna,cds,protein,genome,seq-report\n",
        "#Do I need all of these to properly display BAM alignment later?\n",
        "\n",
        "!unzip ncbi_dataset.zip"
      ],
      "metadata": {
        "id": "kyI3Ra3Ircyq",
        "collapsed": true
      },
      "execution_count": null,
      "outputs": []
    },
    {
      "cell_type": "code",
      "source": [
        "# 18:15 to 21:06 run time\n",
        "\n",
        "!hisat2-build -p 2 \\\n",
        "'/content/ncbi_dataset/data/GCF_000005845.2/GCF_000005845.2_ASM584v2_genomic.fna' \\\n",
        "'/content/ncbi_dataset/data/GCF_000005845.2/genome' #output file name"
      ],
      "metadata": {
        "id": "xP1CylPyza9t",
        "collapsed": true
      },
      "execution_count": null,
      "outputs": []
    },
    {
      "cell_type": "code",
      "source": [
        "# 17:27\n",
        "!mkdir -p mapped\n",
        "\n",
        "#not sure why it has the '_1' and '_2'\n",
        "!hisat2 -p 2 \\\n",
        "-x ./ncbi_dataset/data/GCF_000005845.2/genome \\\n",
        "-U ./FASTQ_files/SRR34090825.fastq \\\n",
        "| samtools view -Sb -o ./mapped/EColi_sample1.bam\n",
        "\n",
        "# 4:25\n",
        "!samtools sort \\\n",
        "./mapped/EColi_sample1.bam \\\n",
        "-o ./mapped/EColi_sample1.sort.bam\n",
        "\n",
        "!samtools index \\\n",
        "-c ./mapped/EColi_sample1.sort.bam \\\n",
        "./mapped/EColi_sample1.sort.bam.bai\n",
        "\n",
        "!samtools faidx \\\n",
        "'/content/ncbi_dataset/data/GCF_000005845.2/GCF_000005845.2_ASM584v2_genomic.fna'"
      ],
      "metadata": {
        "id": "lL_0UGTnCkOR"
      },
      "execution_count": null,
      "outputs": []
    },
    {
      "cell_type": "markdown",
      "source": [
        "## 📄 File summary"
      ],
      "metadata": {
        "id": "0A60Hx_XyCJ_"
      }
    },
    {
      "cell_type": "code",
      "source": [
        "!printf \".fna file:\\n\" && \\\n",
        "head \"/content/ncbi_dataset/data/GCF_000005845.2/GCF_000005845.2_ASM584v2_genomic.fna\" && \\\n",
        "printf \"\\n\\n.fna.fai file:\" && \\\n",
        "head \"/content/ncbi_dataset/data/GCF_000005845.2/GCF_000005845.2_ASM584v2_genomic.fna.fai\" && \\\n",
        "printf \"\\n\\n.bam file:\\n\" && \\\n",
        "head \"/content/mapped/EColi_sample1.bam\" && \\\n",
        "printf \"\\n\\n.sort.bam file:\\n\" && \\\n",
        "head \"/content/mapped/EColi_sample1.sort.bam\" && \\\n",
        "printf \"\\n\\n.sort.bam.bai file:\\n\" && \\\n",
        "head \"/content/mapped/EColi_sample1.sort.bam.bai\" && \\\n",
        "\\\n",
        "printf \"\\n\\n.gff file:\\n\" && \\\n",
        "head \"/content/ncbi_dataset/data/GCF_000005845.2/genomic.gff\" && \\\n",
        "printf \"\\n\\n.fastq file:\\n\" && \\\n",
        "head \"/content/FASTQ_files/SRR34090825.fastq\" && \\\n",
        "printf \"\\n\\nht2 file:\\n\" && \\\n",
        "head \"/content/ncbi_dataset/data/GCF_000005845.2/genome.1.ht2\""
      ],
      "metadata": {
        "id": "wD9WJARIwpxu"
      },
      "execution_count": null,
      "outputs": []
    },
    {
      "cell_type": "markdown",
      "metadata": {
        "id": "5fbc480a"
      },
      "source": [
        "(To-do? Generate TPM matrix output)\n",
        "\n",
        "Also to-do: learn to align SNP's\n",
        "\n",
        "![TPM flowchart](data:image/png;base64,iVBORw0KGgoAAAANSUhEUgAAAOgAAAHCBAMAAAAXx5ivAAAAAXNSR0IArs4c6QAAAARnQU1BAACxjwv8YQUAAAAwUExURQAAAD8/P39/f7+/v////wAAAAAAAAAAAAAAAAAAAAAAAAAAAAAAAAAAAAAAAAAAAMWW9bUAAAAJcEhZcwAADsMAAA7DAcdvqGQAAA+TSURBVHja7Z0LgqI4EEBBcgA+OQAqBwA7B0hI3f9MW5+goGDb0OLMTmp2WwmfZ0ioAFWpSuADEqFvlQh9q0ToWyVC3yoMtcluMoLuVkcboREaoX8/tM9kizx73I3EmflDboKeK/7IwDUvQmE7FAYoZG1hKvyiy7yxPq2gy41PCwPueOgOvsgAV+B3S58+PZpjoTdDSwXZ2ZdeZ5DZFqxRoCy0Br/hPywAWkHf6BPaLw3NZuhRw6nrux5hlT1Cj0dUHRJxRysfCk4W+ho/K1qRAWyG4sk6OZQr9Jgj1AXopUiANrhCnemT7TXNNJwdVpWOaTvo8fSNanp8rOmw7waoa7BNsUlLhmITfmkf2lSg7bVNaQNs0wZOK6FFUtFvpusUe6/H4/IxqffmVc69l6Fd2mVD78UNeuy99fre+wNBhrs78q7Qvqh2gr4qfyo0nyzhDeS9tsWzqnD3NJFDHMAHtdCvh6rJ0oyaCVDjZcsC+tCebjW0T7qaLpAyP+eNQPHS6IvCF6EQFxkKmq+kwjgeDFydr79kFF7wrEnpCmUofkWNFFQ8ZPgfQ/uGx4HSXCqgwcCsrykNJYjAyigi0kMBaQdDhYYLUfsNbUoqWWseg3G3LVA3hlJNEQr1oS0KKdQCNagEBaorwMHAbYeaOygO3fztVlMj44DRF115DZuhVobsEfRCo4mTwqFNw9iuW4NQvxlKnfLWpg0rdO69XBh6b5oY7r3aAg8GOKSq1dDflwj9l6AX+WjseMN7qZaGHUvXEHdoXPbNq9CgrPV30PlhR6AGSh7eqhehveGhJU3t8UC3ZJb+tGWFwwv+9CJzXFwtDTsD1F4Any66F6Fy245PLrSvoucEUniehhde2VKxz5aGnQHqDGrExr4IHbQ8nl6Ht9Unizvjg0VmpQFR4VHx4rAzQHtUjg+Pdt9A9T2Uhhe610sEWi0NO7ea4l1A8yOouULPQ035Z3ejms4PO9c2pWNVr0KlTQU6btMLPa510LZU7BeHnWvvpevl9GqbSu/VkBN06L11ScMLVirtEi6uload63UKUL/ee2H+pmphsPpGXr1OB400kWNh1jBf10hvlAiN0AhdDS1WSL5qpxsUvlZIu2YnM4KuP1OrJEIjNEIjNELXCSp8szsUb+/V7tA8WTL4vBHaJuu7w+o97SegLjnsD/Xr+9GG6/Qj0Lz5ALSFD0C3qkFX7CY3qP3aS9oRFPaS+KgYoREaoREaoftCW7HYPXUVrBON/yc6oXtQl6nb2qnXSQqgfJIYdkgwT6BKjHbPXAV7BUcuUmHVbe309jA1oHDMrsjJ5Ck0WBeeuQraYWdG1FTTrmBHwXuvEw2KqsBOJs+hKkAXXQXbCdRSKZu7mnuvE3VifwRxMnkKFSvVM1fBjhve0rNiJlCPm3KrTL1OcEmg37XpC66CLYjD4K2meNZLdhScep0oPEtS06tBch4aHDGeugqaB6gOP3fqdYI7Dm1aPYVWA3TZVdArqB/atGRHwanXiYI29N7nNcUT9a2rIDapvoNi72VHwanXicKrK1yn5pve+2aJ0L8CSjurT0DhPVDU9708XbZlhQsg/oE+1+T3kZoW/DPH03VQRQqJvVHI8C+nlBX8iUz9h+ZCeuG3oTyG0IcnF4dTKEG1B+QjkOkza8BfhqK+Z48Oglbccdg/MECVQqVXFM3vQskbUAY+qikNdOIfOEArDR28ID+EesUeHdymNpSQgu8Y2jUM/10o6Xv26MigLquaTiT7B1LvJSgNP7/fe8ey/v3cauhK345t0E0SoREaoREaoRG6D3SNhWWrE5RfZWJZs1N0gorQCI3QCI3QCI3Q/zf0Uy58endo/Thn8P3QD7nwpftD+yTbH/ohFz79AWhtPgDdqpH60wo5rtnpfIPa015Sj6Cwl8QXHREaoRH6J0O93AzYhnxUJsLWWDf/68QN26b3dy+4OQV8IK8vKIabuEeoFb8hp+F4B9XLUC86vBXjKkxmmVMdyOvLmiH2w9zpZbOro/A/vqhczZZ+igaXsq2fImnhInsBtAUt09ZiqiVHpDN0fV0fXKH7YwI4inHsBQ03F7NZKJuY3dkfDcdtIKsw+dyADrb+9uoFoDiGGB7sS8zvJzxLFVycdvhxcrpvhjAIJzxK+sRLp+V7Lef6znQURcBrOGj6yXTKFEVH8xT1QCzjJ7FHa5n0nufkRYTrrFfQWUO+UBLwgfyVfK2XayptSl5ebVEc6dBlWpQEZVs/QmmxPtygfSo3aBkHRqgcOPwRF/zAJamp11SVahnKncH5o8OaYseRmlLnIFt/qCk3PdeYoC70HMVBHvDUd3gMChXnByhUik//ArQNNfWZwzZ1HUibVgz1Q5tW7AXAcR4QWomJHM9p63WvLtB5rNuFKxyg7dPe65MDx6cA5bj3Aln6qfdCzrb+ofem0nsJShG2sF7g01xBXuoztM2xAOrH5DbGAR969vpaPr2PssHSPyevQDdZ+tdCf10i9JmoW8iYHvu4sntA4QZ1q07QqpqiGvziCEFNrlWtLIcLUouxR38HainADEcIcrQggUj9YuzR34F2HISOnH4FKq61r799WAl1NUcIClBaIG/t99eUh46hpjLKVO+E2hA0aIDSAg3jp3dCQ+8lqCIo9V4N9Vt772aJ0AiN0AiN0AiN0H8N2t+sbHY3aA293h3K7xhk9qKFbB8oB/K2w+xF2AmqfUJRT3lG5G5QeaHCsxf3a9NMoF96x5rSW1a6uZfZi3tBPV6nYfZiu1fv3SQR+s9ApykR+CXo5IVC/zJg7gXqAtQ97jh5zHawRRaguS6V2EMoYrWiENcpzx7zw0srXF8YniB/NB1bSmR2GRZ1KU06w0Uyo6irGeVbqOPJy/TunOIxk+qhOMmWBxZ5acXrebE1g+XE8lnJVN/QlEl+v0RT04MZ5QUonVLF0x4lKwVonvvYXV9akdUAThQT+kvsB8cwNzLTbNoh8wouH65mlBegbA+xkg9H9ZQmh+c+tsNLK812EoXHdl/4zcr7LJoxeRAobVkffggVewhtXdLbKpBozh2El1a0XgJRU03BSsRrnjk51JSOY2hS/U+gNH44yoeD0FZiX4MdXlppyZcT2hS/OXqFRYN7hmdepkye8FdlgxnlBajSMn44muauXNqp/Np7+aWVlinwTS+9l34e916yolx7byq990XoT8Su3GMDtC+q/aFr5I+A5vcb9FTEqwaNX9/8E3XQwWO9/E3Ogznow6DgrkXhyM6Mbom6e+S3OQ9moHcBTNqyylEZAWVDO6ZkRGQbKL9MPuWqNxdX6PbQmyIjG2JHFSEoavilnAdmrqbTACY+c6J5M7alSywKqV8BJ2cqMn0b15kWKrjowUaLBzku5TyYhY5iiZBOC1BUCHTIE9/ad3IaUb0dyPRN79Ppx5z5zJIJnPTTYs6DGaibQqs56FkaCtcdxPR9CsuH0KakghZzHixBzVJNz0MCJp4L3/mSTd/dKcyWd+YGfZLzYAY6DmDix1ApK+XX+gb0xZ9RuXdw6aDyuk/NCHpaynkwDx0FMKlLskcEaC69lxxdO86BoM+9ORbQNuc+bSAvq7SUNsW+6i6LOQ++10i/bA0XeQ79dWv4K9A3SYRGaIRG6J8J/YR3+io//HrNTiM//A1napVEaIRGaIRGaIRGaIRGaIRG6BPBO/z9M+kkH5r7/8/kDPrI3P9/J2fQR+b+/zM5g9xGqE12kxEU9pL4mi5CI/Tvg/LwSHZOjnxUjAz5E81+W+j5nkVz4oTHSfSDX1j+DOrKASr2+pEtfzKG3RYcwLDpzCT6QTerZ9DucgdlDxnKBe9SsqvSom9OLgV2B/O5zgd/Aqh4Ej0eg90EHBaxX9hMVpQ7qJ5AaQ47feGs99oO5UqBDu5gcLrVtOJJ9FgrMqlnTnwInExhnDoVTKHOCFQs+BRHQIs7LUE78XnqTdewNxJP5budXq94Ej0Zx8li79jIXZEzGtxnRZlCO5jUFKVqi+KseZY4Q8miT7lixB1sBE3xjNIk+gfoTFaUKfRY8D3PCHrqQpj/q2MbJ4DR4g42rmmYRB+g5yt0JivK/SVz35HYVWvSps7oTKDkDtZNoBmZ/3mefxbcwGhO/ENWlEdoNupISWKG3gv50Hv7psPrjt3BsPc6dYPSJPqh95IbGPuFzWRFeVEj/dy76pn8yVCI0P2gdaL7BB8SH3NsvQ8qObbUXI6t90FlQzWTY+uN0HYCneTYeh9UcmxxRJX7HFvvg0qOLTWXY+t9UPFPU3M5tt4HlRxbai7H1vugkmNLzeXYeiN0q0RohEZohH4L/dpLRlm23W55K8obdMOZWiURGqERGqERGqERKoKD+P4uB0nMcfBeaMxx8FZozHHwKnTNY0m3ZqdRZrpVOfhWySgHX3wojtAIjdBnUJsW8jG9EbkNYeNX9Quv7SfjXf8KNHyEOd3boe4FqLtC7VdaOWONo7A0FODDF5lYjUPEG/5e5g1FvalDWAMuOFAZx7/xaZXrCjRt3hXLOQ7yLEBdDfZiuqajuewSyiT4PEgcG7GV83R321LAfglsM4Q1sGFVBxff8ObDGXiE+hBzwUBfQH/W+I+s7xSeBjjA/eC44MT/QXE5B7SXpP9YoDjcmJGPI7jeWDqURCqY770chJ9qitBGa10N0L5IOOF/iHjzJf4PXN7hTcRBkv5rhob4Nwy1DhutP6fh/dxTKEeVrrCqNoSn6UJNQ8Sba007CcssgW2uNeX4NwwlLtd0sSO119NbkmsCNmnDUGxTim5D7Rgi3lzbFMvJF4TDGnCBxLmRcDf4e3wJ0qaLOQ4oQ0cm1ym5JrTGGknqXxiKbiM+DxLxZui9WJ5Cn956Lx4+xL/BQzjybfim9/5U9LcFVDS5WHeB1ua3oSvkz4NyMI5Z17QDeFI3mtWOLND2bEkl8SOrsbr8HDrrmoZqo0JoxVBZCEeQ7cZNqJx5HepTDlSWa/yDz4RQ0lUTXNPw8iFoJ1BewD1qqilfGGeq7Ekc2ZTXr0NDhDLHXkTsSCTRTGipNBeCUsCyLCzwHhYyNdiQlZKgNuohusgTaMeqSTkIpmj6xafgxqT1maCkDbOwMECvWWG6Zgj1Uv0E6gzndsE/BNUTqGZoJ1B9gx5CVhhWpGugFKFMOQ5Ycw+9CNRR/EhZuNUUBHrUK6DYphQL05F6Z6gcQaCtYahPCMoLcG3TkPhFZwP0B21KvRc1u1P4R6DYeweoBYZCTVBaIDchvrMIvddemi5Af9J7t8hE1f7kOt0iY40EP9NI75IIjdAI/bugp71ka7CXVbI12MsGidC3SoS+VSL0rfIBKMB/hNeQ3PqpOnIAAAAASUVORK5CYII=)"
      ]
    },
    {
      "cell_type": "markdown",
      "source": [
        "## 🖥️🧬 Display alignment via IGV"
      ],
      "metadata": {
        "id": "OX1UG39EKuU3"
      }
    },
    {
      "cell_type": "code",
      "source": [
        "# https://notebooks.gesis.org/binder/jupyter/user/igvteam-igv-notebook-5ezpa167/tree/examples\n",
        "# https://notebooks.gesis.org/binder/jupyter/user/igvteam-igv-notebook-5ezpa167/notebooks/examples/Colab.ipynb\n",
        "import igv_notebook\n",
        "\n",
        "igv_notebook.init()\n",
        "\n",
        "b = igv_notebook.Browser(\n",
        "    {\n",
        "        \"reference\": {\n",
        "            \"id\": \"GCF_000239415.1\",\n",
        "            \"name\": \"E_Coli\",\n",
        "            \"fastaPath\": \"/content/ncbi_dataset/data/GCF_000005845.2/GCF_000005845.2_ASM584v2_genomic.fna\",\n",
        "            \"indexPath\": \"/content/ncbi_dataset/data/GCF_000005845.2/GCF_000005845.2_ASM584v2_genomic.fna.fai\",\n",
        "            \"tracks\": [{\n",
        "                \"name\": \"Local BAM\",\n",
        "                \"path\": \"/content/mapped/EColi_sample1.sort.bam\",\n",
        "                \"indexPath\": \"/content/mapped/EColi_sample1.sort.bam.bai\",\n",
        "                \"format\": \"bam\",\n",
        "                \"type\": \"alignment\",\n",
        "                # \"color\": \"rgba(94,255,1,0.25)\",\n",
        "                \"height\": \"200\"\n",
        "            }]\n",
        "        },\n",
        "        #\"locus\": \"NC_000913.3:442,261-460,391\"\n",
        "        \"locus\": \"NC_000913.3:98,215-116,346\"\n",
        "    }\n",
        ")"
      ],
      "metadata": {
        "id": "mROm3yMLgbSv"
      },
      "execution_count": null,
      "outputs": []
    },
    {
      "cell_type": "markdown",
      "source": [
        "<style>\n",
        "  #igv-container {\n",
        "    background-color: #1e1e1e;  /* dark background */\n",
        "    color: white;  /* text */\n",
        "    border: 1px solid #444;\n",
        "  }\n",
        "</style>\n",
        "<div id=\"igv-container\"></div>"
      ],
      "metadata": {
        "id": "_gAn06o5JOzy"
      }
    },
    {
      "cell_type": "markdown",
      "source": [
        "## 🖥️📊 Display read coverage via pyGenomeTracks"
      ],
      "metadata": {
        "id": "ojJN6l-HHOUK"
      }
    },
    {
      "cell_type": "code",
      "source": [
        "!conda install -c bioconda pygenometracks > /dev/null 2>&1"
      ],
      "metadata": {
        "id": "8Dpykbw_tRvV"
      },
      "execution_count": null,
      "outputs": []
    },
    {
      "cell_type": "code",
      "source": [
        "%%writefile ecoli_track.ini\n",
        "[track coverage]\n",
        "file = ecoli_coverage.bedgraph\n",
        "title = Read Coverage\n",
        "height = 4\n",
        "color = black\n",
        "file_type = bedgraph\n",
        "min_value = 0\n",
        "max_value = 30\n",
        "show_data_range = yes\n",
        "show_title = yes\n",
        "number_of_bins = 700"
      ],
      "metadata": {
        "id": "8v4obWbDxTBk"
      },
      "execution_count": null,
      "outputs": []
    },
    {
      "cell_type": "code",
      "source": [
        "!cut -f1,2 /content/ncbi_dataset/data/GCF_000005845.2/GCF_000005845.2_ASM584v2_genomic.fna.fai > ecoli.chrom.sizes"
      ],
      "metadata": {
        "id": "mlquz1ktxZgE"
      },
      "execution_count": null,
      "outputs": []
    },
    {
      "cell_type": "code",
      "source": [
        "!bedtools genomecov -ibam /content/mapped/EColi_sample1.sort.bam -bg > ecoli_coverage.bedgraph"
      ],
      "metadata": {
        "id": "nl0Nng4Qx-Ty"
      },
      "execution_count": null,
      "outputs": []
    },
    {
      "cell_type": "code",
      "source": [
        "!pyGenomeTracks --tracks ecoli_track.ini \\\n",
        "    --outFileName ecoli_track.svg \\\n",
        "    --fontSize 10 \\\n",
        "    --width 20 \\\n",
        "    --height 6 \\\n",
        "    --region NC_000913.3:1-4,641,652 #NC_000913.3:98215-116346"
      ],
      "metadata": {
        "id": "8TT0kHhoxcF7"
      },
      "execution_count": null,
      "outputs": []
    },
    {
      "cell_type": "code",
      "source": [
        "from IPython.display import SVG, display\n",
        "display(SVG(\"ecoli_track.svg\"))"
      ],
      "metadata": {
        "id": "nUUNqbz6yWDd"
      },
      "execution_count": null,
      "outputs": []
    }
  ]
}